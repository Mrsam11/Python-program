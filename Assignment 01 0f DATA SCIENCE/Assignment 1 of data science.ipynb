{
 "cells": [
  {
   "cell_type": "code",
   "execution_count": 1,
   "id": "7a0d5f7d",
   "metadata": {},
   "outputs": [
    {
     "name": "stdout",
     "output_type": "stream",
     "text": [
      "Twinkle, twinkle, little star,\n",
      "\tHow I wonder what you are!\n",
      "\t\tUp above the world so high,\n",
      "\t\tLike a diamond in the sky.\n",
      "Twinkle, twinkle, little star\n",
      "\tHow I wonder what you are\n"
     ]
    }
   ],
   "source": [
    "#Question_01\n",
    "#python program to print below line in specific format\n",
    "print(\"\"\"Twinkle, twinkle, little star,\n",
    "\\tHow I wonder what you are!\n",
    "\\t\\tUp above the world so high,\n",
    "\\t\\tLike a diamond in the sky.\n",
    "Twinkle, twinkle, little star\n",
    "\\tHow I wonder what you are\"\"\");"
   ]
  },
  {
   "cell_type": "code",
   "execution_count": 2,
   "id": "bf5644ca",
   "metadata": {},
   "outputs": [
    {
     "name": "stdout",
     "output_type": "stream",
     "text": [
      "3.9.7 (default, Sep 16 2021, 16:59:28) [MSC v.1916 64 bit (AMD64)]\n"
     ]
    }
   ],
   "source": [
    "#Question_02\n",
    "#python program to check python version\n",
    "import sys\n",
    "print(sys.version);"
   ]
  },
  {
   "cell_type": "code",
   "execution_count": 3,
   "id": "16ab6854",
   "metadata": {},
   "outputs": [
    {
     "name": "stdout",
     "output_type": "stream",
     "text": [
      "Current Date and Time is: 2022-01-01 13:53:07\n"
     ]
    }
   ],
   "source": [
    "#Question_03\n",
    "#Python program to display the current date and time\n",
    "from datetime import datetime\n",
    "date_time = datetime.now();\n",
    "print(\"Current Date and Time is:\", date_time.strftime(\"%Y-%m-%d %H:%M:%S\"))"
   ]
  },
  {
   "cell_type": "code",
   "execution_count": 4,
   "id": "30581699",
   "metadata": {},
   "outputs": [
    {
     "name": "stdout",
     "output_type": "stream",
     "text": [
      "Enter the radius of a Circle 21\n",
      "The Area of a Circle is: 1385.442360233099\n"
     ]
    }
   ],
   "source": [
    "#Question_04\n",
    "#Python program to find radius of circle input from user\n",
    "from math import pi\n",
    "r=int(input(\"Enter the radius of a Circle \"));\n",
    "#Formula Area=pi*r*r\n",
    "area= pi *r *r\n",
    "print(\"The Area of a Circle is:\", area);"
   ]
  },
  {
   "cell_type": "code",
   "execution_count": 5,
   "id": "6123950f",
   "metadata": {},
   "outputs": [
    {
     "name": "stdout",
     "output_type": "stream",
     "text": [
      "Enter your first name sameer \n",
      "Enter your last name AHMED\n",
      " reemaS demhA\n",
      "Ahmed Sameer \n"
     ]
    }
   ],
   "source": [
    "#Question_05\n",
    "'''Python program which accept first and last name\n",
    "and print them in reverse order'''\n",
    "f_name=input(\"Enter your first name \").title();\n",
    "l_name=input(\"Enter your last name \").title();\n",
    "print(f_name[::-1]+' '+l_name[::-1]) \n",
    "#Or\n",
    "print(l_name+\" \"+f_name)"
   ]
  },
  {
   "cell_type": "code",
   "execution_count": 6,
   "id": "319c1ca0",
   "metadata": {},
   "outputs": [
    {
     "name": "stdout",
     "output_type": "stream",
     "text": [
      "Select two numbers having space between them : 22 3\n",
      "The sum of value is 25\n"
     ]
    }
   ],
   "source": [
    "#Question_06\n",
    "\"\"\"python program which takes two inputs \n",
    "from user and print them addition\"\"\"\n",
    "#We are adding two integar value\n",
    "x , y= input(\"Select two numbers having space between them : \").split();\n",
    "z = int(x) + int(y)\n",
    "print(f\"The sum of value is {z}\")"
   ]
  },
  {
   "cell_type": "code",
   "execution_count": null,
   "id": "71388259",
   "metadata": {},
   "outputs": [],
   "source": []
  }
 ],
 "metadata": {
  "kernelspec": {
   "display_name": "Python 3 (ipykernel)",
   "language": "python",
   "name": "python3"
  },
  "language_info": {
   "codemirror_mode": {
    "name": "ipython",
    "version": 3
   },
   "file_extension": ".py",
   "mimetype": "text/x-python",
   "name": "python",
   "nbconvert_exporter": "python",
   "pygments_lexer": "ipython3",
   "version": "3.9.7"
  }
 },
 "nbformat": 4,
 "nbformat_minor": 5
}
