{
 "cells": [
  {
   "cell_type": "code",
   "execution_count": 2,
   "id": "6a3e477a",
   "metadata": {},
   "outputs": [
    {
     "name": "stdout",
     "output_type": "stream",
     "text": [
      "Twinkle, twinkle, little star,\n",
      "\tHow I wonder what you are!\n",
      "\t\tUp above the world so high,\n",
      "\t\tLike a diamond in the sky.\n",
      "Twinkle, twinkle, little star\n",
      "\tHow I wonder what you are\n"
     ]
    }
   ],
   "source": [
    "#Question_01\n",
    "#python program to print below line in specific format\n",
    "print(\"\"\"Twinkle, twinkle, little star,\n",
    "\\tHow I wonder what you are!\n",
    "\\t\\tUp above the world so high,\n",
    "\\t\\tLike a diamond in the sky.\n",
    "Twinkle, twinkle, little star\n",
    "\\tHow I wonder what you are\"\"\");"
   ]
  },
  {
   "cell_type": "code",
   "execution_count": 3,
   "id": "713abba2",
   "metadata": {},
   "outputs": [
    {
     "name": "stdout",
     "output_type": "stream",
     "text": [
      "3.8.8 (default, Apr 13 2021, 15:08:03) [MSC v.1916 64 bit (AMD64)]\n"
     ]
    }
   ],
   "source": [
    "#Question_02\n",
    "#python program to check python version\n",
    "import sys\n",
    "print(sys.version);"
   ]
  },
  {
   "cell_type": "code",
   "execution_count": 3,
   "id": "d1fe7abb",
   "metadata": {},
   "outputs": [
    {
     "name": "stdout",
     "output_type": "stream",
     "text": [
      "Current Date and Time is: 2021-10-23 15:00:19\n"
     ]
    }
   ],
   "source": [
    "#Question_03\n",
    "#Python program to display the current date and time\n",
    "import datetime\n",
    "date_time = datetime.datetime.now();\n",
    "print(\"Current Date and Time is:\", date_time.strftime(\"%Y-%m-%d %H:%M:%S\"));\n"
   ]
  },
  {
   "cell_type": "code",
   "execution_count": 15,
   "id": "e3020540",
   "metadata": {},
   "outputs": [
    {
     "name": "stdout",
     "output_type": "stream",
     "text": [
      "Enter the radius of a Circle 4\n",
      "The Area of a Circle is: 50.26548245743669\n"
     ]
    }
   ],
   "source": [
    "#Question_04\n",
    "#Python program to find radius of circle\n",
    "from math import pi\n",
    "r=int(input(\"Enter the radius of a Circle \"));\n",
    "#Formula Area=pi*r*r\n",
    "area= pi *r *r\n",
    "print(\"The Area of a Circle is:\", area);"
   ]
  },
  {
   "cell_type": "code",
   "execution_count": 9,
   "id": "edf2167d",
   "metadata": {},
   "outputs": [
    {
     "name": "stdout",
     "output_type": "stream",
     "text": [
      "Enter your first name Sameer\n",
      "Enter your last name Ahmed\n",
      "reemaS demhA\n",
      "Ahmed Sameer\n"
     ]
    }
   ],
   "source": [
    "#Question_05\n",
    "'''Python program which accept first and last name\n",
    "and print them in reverse order'''\n",
    "f_name=input(\"Enter your first name \");\n",
    "l_name=input(\"Enter your last name \");\n",
    "print(f_name[::-1]+' '+l_name[::-1]) \n",
    "#Or\n",
    "print(l_name+\" \"+f_name)"
   ]
  },
  {
   "cell_type": "code",
   "execution_count": 11,
   "id": "addfe6b7",
   "metadata": {},
   "outputs": [
    {
     "name": "stdout",
     "output_type": "stream",
     "text": [
      "Select Any number : 10\n",
      "Select Any number : 5\n",
      "The sum of int value is  15\n",
      "Select any Number : 10.6\n",
      "Select any Number : 4.3\n",
      "The sum of float value is  14.899999999999999\n"
     ]
    }
   ],
   "source": [
    "#Question_06\n",
    "\"\"\"python program which takes two inputs \n",
    "from user and print them addition\"\"\"\n",
    "#We are adding two integar value\n",
    "x = int(input(\"Select Any number : \"));\n",
    "y = int(input(\"Select Any number : \"));\n",
    "z = x + y;\n",
    "print(\"The sum of int value is \", z)\n",
    "#We are adding two float value\n",
    "a = float(input(\"Select any Number : \"));\n",
    "b = float(input(\"Select any Number : \"));\n",
    "c= a + b;\n",
    "print(\"The sum of float value is \", c)"
   ]
  },
  {
   "cell_type": "code",
   "execution_count": 12,
   "id": "606d053a",
   "metadata": {},
   "outputs": [
    {
     "name": "stdout",
     "output_type": "stream",
     "text": [
      "Marks Obtain in English : 70\n",
      "Marks Obtain in Urdu : 65\n",
      "Marks Obtain in Isl : 79\n",
      "Marks Obtain in Math : 71\n",
      "Marks Obtain in Physic : 68\n",
      "Your Percentage is  70.6\n",
      "Grade you obtain is A\n"
     ]
    }
   ],
   "source": [
    "#Question_07\n",
    "\"\"\"Python program which takes 5 inputs from user for different subject’s marks, total it\n",
    "and generate mark sheet using grades\"\"\"\n",
    "Eng = int(input(\"Marks Obtain in English : \"));\n",
    "Urdu = int(input(\"Marks Obtain in Urdu : \"));\n",
    "Isl = int(input(\"Marks Obtain in Isl : \"));\n",
    "Math = int(input(\"Marks Obtain in Math : \"));\n",
    "Physic = int(input(\"Marks Obtain in Physic : \"));\n",
    "Marks = Eng + Urdu + Isl + Math + Physic;\n",
    "Total_marks = 500;\n",
    "Percentage = (Marks/Total_marks * 100);\n",
    "print(\"Your Percentage is \", Percentage);\n",
    "if Percentage <= 100 and Percentage >= 80:\n",
    "    print (\"Grade you obtain is A+\");\n",
    "elif Percentage <= 80 and Percentage >= 70:\n",
    "    print (\"Grade you obtain is A\");\n",
    "elif Percentage <= 70 and Percentage >= 60:\n",
    "    print (\"Grade you obtain is B\");\n",
    "elif Percentage <= 60 and Percentage >= 50:\n",
    "    print (\"Grade you obtain is C\");\n",
    "elif Percentage <= 50 and Percentage >= 40:\n",
    "    print (\"Grade you obtain is D\");\n",
    "elif Percentage <= 40 and Percentage >= 33:\n",
    "    print (\"Grade you obtain is E\");\n",
    "elif Percentage <= 0 and Percentage >= 100:\n",
    "    print (\"You Didn't enter the correct Percentage\");\n",
    "else:\n",
    "    print (\"Better Luck Next Time\")"
   ]
  },
  {
   "cell_type": "code",
   "execution_count": 14,
   "id": "f730e3d5",
   "metadata": {},
   "outputs": [
    {
     "name": "stdout",
     "output_type": "stream",
     "text": [
      "The Number You Enter is 3\n",
      "The Given Number id Odd\n"
     ]
    }
   ],
   "source": [
    "#Question_08\n",
    "'''Python program which take input from user and identify that the given number is even\n",
    "or odd'''\n",
    "x = int(input(\"The Number You Enter is \"));\n",
    "X = x%2\n",
    "if X == 0:\n",
    "    print(\"The Given Number is Even\")\n",
    "else:\n",
    "    print(\"The Given Number id Odd\")"
   ]
  },
  {
   "cell_type": "code",
   "execution_count": 18,
   "id": "91127239",
   "metadata": {},
   "outputs": [
    {
     "name": "stdout",
     "output_type": "stream",
     "text": [
      "The List is  ['Sameer', 'Ahmed', 'Zia', 'Khan', False, 1, 2, 5]\n",
      "The Length Of list is  8\n"
     ]
    }
   ],
   "source": [
    "#Question_09\n",
    "#Write a program which print the length of the list\n",
    "names = [\"Sameer\",\"Ahmed\",\"Zia\",\"Khan\",False,1,2,5];\n",
    "#def len()\n",
    "print(\"The List is \", str(names));\n",
    "print(\"The Length Of list is \", len(names))"
   ]
  },
  {
   "cell_type": "code",
   "execution_count": 20,
   "id": "72715a96",
   "metadata": {},
   "outputs": [
    {
     "name": "stdout",
     "output_type": "stream",
     "text": [
      "The list is [1, 6, 3, 9, 10, 15]\n",
      "The sum of list is  44\n"
     ]
    }
   ],
   "source": [
    "#Question_10\n",
    "#Write a Python program to sum all the numeric items in a list\n",
    "list1 = [1,6,3,9,10,15]\n",
    "#def sum()\n",
    "print(\"The list is \" + str(list1));\n",
    "print(\"The sum of list is \", sum(list1))"
   ]
  },
  {
   "cell_type": "code",
   "execution_count": 21,
   "id": "a0873788",
   "metadata": {},
   "outputs": [
    {
     "name": "stdout",
     "output_type": "stream",
     "text": [
      "The largest number in list is 202\n"
     ]
    }
   ],
   "source": [
    "#Question_11\n",
    "#Python program to get the largest number from a numeric list\n",
    "list1= [10,3,98,44,33,58,202,32];\n",
    "#def max()\n",
    "print(\"The largest number in list is\", max(list1));"
   ]
  },
  {
   "cell_type": "code",
   "execution_count": 2,
   "id": "bf438f0b",
   "metadata": {},
   "outputs": [
    {
     "name": "stdout",
     "output_type": "stream",
     "text": [
      "[1, 2, 2, 3, 1, 4, 0]\n"
     ]
    }
   ],
   "source": [
    "#Question_12\n",
    "#Python program that prints out all the elements of the list that are less than 5\n",
    "a = [1,2,2,3,1,4,5,76,54,33,0];\n",
    "b =[];\n",
    "for i in a:\n",
    "    if i < 5:\n",
    "        b.append(i)\n",
    "print(b);\n"
   ]
  },
  {
   "cell_type": "code",
   "execution_count": null,
   "id": "392dac18",
   "metadata": {},
   "outputs": [],
   "source": []
  }
 ],
 "metadata": {
  "kernelspec": {
   "display_name": "Python 3",
   "language": "python",
   "name": "python3"
  },
  "language_info": {
   "codemirror_mode": {
    "name": "ipython",
    "version": 3
   },
   "file_extension": ".py",
   "mimetype": "text/x-python",
   "name": "python",
   "nbconvert_exporter": "python",
   "pygments_lexer": "ipython3",
   "version": "3.8.8"
  }
 },
 "nbformat": 4,
 "nbformat_minor": 5
}
