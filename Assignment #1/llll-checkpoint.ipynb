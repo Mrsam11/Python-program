{
 "cells": [
  {
   "cell_type": "code",
   "execution_count": 1,
   "id": "75fcdd6d",
   "metadata": {},
   "outputs": [
    {
     "name": "stdout",
     "output_type": "stream",
     "text": [
      "hello world\n"
     ]
    }
   ],
   "source": [
    "print (\"hello world\");"
   ]
  },
  {
   "cell_type": "code",
   "execution_count": 20,
   "id": "feccd83c",
   "metadata": {},
   "outputs": [
    {
     "name": "stdout",
     "output_type": "stream",
     "text": [
      "c\n"
     ]
    }
   ],
   "source": [
    "a = 20;\n",
    "b = -2;\n",
    "c = a + b;\n",
    "print (\"c\");"
   ]
  },
  {
   "cell_type": "code",
   "execution_count": 22,
   "id": "c11f62fd",
   "metadata": {},
   "outputs": [
    {
     "name": "stdout",
     "output_type": "stream",
     "text": [
      "18\n"
     ]
    }
   ],
   "source": [
    "a = 20;\n",
    "b = -2;\n",
    "c = a + b;\n",
    "print (c);"
   ]
  },
  {
   "cell_type": "code",
   "execution_count": 5,
   "id": "fe81dd82",
   "metadata": {},
   "outputs": [
    {
     "name": "stdout",
     "output_type": "stream",
     "text": [
      "sameer ahmed\n"
     ]
    }
   ],
   "source": [
    "x = \"sameer \";\n",
    "y = \"ahmed\";\n",
    "z = x + y;\n",
    "print (z);"
   ]
  },
  {
   "cell_type": "code",
   "execution_count": 8,
   "id": "04926023",
   "metadata": {},
   "outputs": [
    {
     "name": "stdout",
     "output_type": "stream",
     "text": [
      "52\n"
     ]
    }
   ],
   "source": [
    "s = \"5\";\n",
    "y = \"2\";\n",
    "q = s + y;\n",
    "print (q);"
   ]
  },
  {
   "cell_type": "code",
   "execution_count": 10,
   "id": "bb9d603b",
   "metadata": {},
   "outputs": [
    {
     "name": "stdout",
     "output_type": "stream",
     "text": [
      "19\n"
     ]
    }
   ],
   "source": [
    "x = 7;\n",
    "y = 10 + x;\n",
    "z = x + y - 5;\n",
    "print (z);"
   ]
  },
  {
   "cell_type": "code",
   "execution_count": 12,
   "id": "5cfe6812",
   "metadata": {},
   "outputs": [
    {
     "name": "stdout",
     "output_type": "stream",
     "text": [
      "32.0\n"
     ]
    }
   ],
   "source": [
    "a = 2 - 4 / 2 + 4 * 8;\n",
    "print (a);"
   ]
  },
  {
   "cell_type": "code",
   "execution_count": 13,
   "id": "13a86839",
   "metadata": {},
   "outputs": [
    {
     "name": "stdout",
     "output_type": "stream",
     "text": [
      "-2.6666666666666665\n"
     ]
    }
   ],
   "source": [
    "a = ((2 - 4) / (2 + 4) * 8);\n",
    "print (a);"
   ]
  },
  {
   "cell_type": "code",
   "execution_count": 1,
   "id": "4743706f",
   "metadata": {},
   "outputs": [
    {
     "name": "stdout",
     "output_type": "stream",
     "text": [
      "2\n"
     ]
    }
   ],
   "source": [
    "x = 8;\n",
    "y = x%3;\n",
    "print (y);"
   ]
  },
  {
   "cell_type": "code",
   "execution_count": 2,
   "id": "3f6340d7",
   "metadata": {},
   "outputs": [
    {
     "name": "stdout",
     "output_type": "stream",
     "text": [
      "7\n"
     ]
    }
   ],
   "source": [
    "s = 12;\n",
    "s = 7;\n",
    "print (s);"
   ]
  },
  {
   "cell_type": "code",
   "execution_count": 3,
   "id": "3d0729d4",
   "metadata": {},
   "outputs": [
    {
     "name": "stdout",
     "output_type": "stream",
     "text": [
      "10\n"
     ]
    }
   ],
   "source": [
    " y = 9;\n",
    "y = y + 1;\n",
    "print (y);"
   ]
  },
  {
   "cell_type": "code",
   "execution_count": 4,
   "id": "8a6ab57c",
   "metadata": {},
   "outputs": [
    {
     "name": "stdout",
     "output_type": "stream",
     "text": [
      "9\n"
     ]
    }
   ],
   "source": [
    "a = 2;\n",
    "a+= 7;\n",
    "print (a);"
   ]
  },
  {
   "cell_type": "code",
   "execution_count": 5,
   "id": "9a320966",
   "metadata": {},
   "outputs": [
    {
     "name": "stdout",
     "output_type": "stream",
     "text": [
      "6\n"
     ]
    }
   ],
   "source": [
    "a = 3;\n",
    "a = a+ 3;\n",
    "print(a);"
   ]
  },
  {
   "cell_type": "code",
   "execution_count": 6,
   "id": "3e7d41bb",
   "metadata": {},
   "outputs": [
    {
     "name": "stdout",
     "output_type": "stream",
     "text": [
      "6\n"
     ]
    }
   ],
   "source": [
    "y = 8;\n",
    "y-= 2;\n",
    "print (y);"
   ]
  },
  {
   "cell_type": "code",
   "execution_count": 7,
   "id": "90fb1a46",
   "metadata": {},
   "outputs": [
    {
     "name": "stdout",
     "output_type": "stream",
     "text": [
      "27\n"
     ]
    }
   ],
   "source": [
    "y = 9;\n",
    "y*= 3;\n",
    "print(y);"
   ]
  },
  {
   "cell_type": "code",
   "execution_count": 8,
   "id": "f79031f5",
   "metadata": {},
   "outputs": [
    {
     "name": "stdout",
     "output_type": "stream",
     "text": [
      "1\n"
     ]
    }
   ],
   "source": [
    "y = 10;\n",
    "y%= 3;\n",
    "print(y);\n"
   ]
  },
  {
   "cell_type": "code",
   "execution_count": 10,
   "id": "a05531cb",
   "metadata": {},
   "outputs": [
    {
     "name": "stdout",
     "output_type": "stream",
     "text": [
      "my name is Sameer Ahmed\n"
     ]
    }
   ],
   "source": [
    "a = \"Sameer Ahmed\"\n",
    "print (\"my name is \" + a);"
   ]
  },
  {
   "cell_type": "code",
   "execution_count": 11,
   "id": "3c59e4f0",
   "metadata": {},
   "outputs": [
    {
     "name": "stdout",
     "output_type": "stream",
     "text": [
      "Allow for Ride\n"
     ]
    }
   ],
   "source": [
    "gender = \"male\";\n",
    "if gender == \"male\":\n",
    "    print (\"Allow for Ride\");"
   ]
  },
  {
   "cell_type": "code",
   "execution_count": 12,
   "id": "c5f27d93",
   "metadata": {},
   "outputs": [
    {
     "name": "stdout",
     "output_type": "stream",
     "text": [
      "you are not eligible\n"
     ]
    }
   ],
   "source": [
    "gender = \"female\";\n",
    "if gender == \"male\":\n",
    "    print (\"Allow for Ride\");\n",
    "else:\n",
    "    print (\"you are not eligible\");"
   ]
  },
  {
   "cell_type": "code",
   "execution_count": 13,
   "id": "81980e75",
   "metadata": {},
   "outputs": [
    {
     "name": "stdout",
     "output_type": "stream",
     "text": [
      "Allow for Ride\n"
     ]
    }
   ],
   "source": [
    "gender = \"female\";\n",
    "if gender != \"male\":\n",
    "    print (\"Allow for Ride\");\n",
    "else:\n",
    "    print (\"you are not eligible\");"
   ]
  },
  {
   "cell_type": "code",
   "execution_count": 14,
   "id": "32b8ae62",
   "metadata": {},
   "outputs": [
    {
     "name": "stdout",
     "output_type": "stream",
     "text": [
      "not eligible\n"
     ]
    }
   ],
   "source": [
    "age = 16;\n",
    "gender = \"female\";\n",
    "if age > 18 or gender == \"male\":\n",
    "    print (\"allow\");\n",
    "else:\n",
    "    print(\"not eligible\");"
   ]
  },
  {
   "cell_type": "code",
   "execution_count": 15,
   "id": "4a1eb247",
   "metadata": {},
   "outputs": [
    {
     "name": "stdout",
     "output_type": "stream",
     "text": [
      "allow\n"
     ]
    }
   ],
   "source": [
    "age = 16;\n",
    "gender = \"female\";\n",
    "if age < 18 or gender != \"male\":\n",
    "    print (\"allow\");\n",
    "else:\n",
    "    print(\"not eligible\");"
   ]
  },
  {
   "cell_type": "code",
   "execution_count": 16,
   "id": "4341f388",
   "metadata": {},
   "outputs": [
    {
     "name": "stdout",
     "output_type": "stream",
     "text": [
      "allow\n"
     ]
    }
   ],
   "source": [
    "age = 16;\n",
    "gender = \"female\";\n",
    "if age < 18 or gender == \"male\":\n",
    "    print (\"allow\");\n",
    "else:\n",
    "    print(\"not eligible\");"
   ]
  },
  {
   "cell_type": "code",
   "execution_count": 17,
   "id": "b1a82b33",
   "metadata": {},
   "outputs": [
    {
     "name": "stdout",
     "output_type": "stream",
     "text": [
      "allow\n"
     ]
    }
   ],
   "source": [
    "age = 16;\n",
    "gender = \"female\";\n",
    "if age > 18 or gender != \"male\":\n",
    "    print (\"allow\");\n",
    "else:\n",
    "    print(\"not eligible\");"
   ]
  },
  {
   "cell_type": "code",
   "execution_count": 18,
   "id": "ab2c9136",
   "metadata": {},
   "outputs": [
    {
     "name": "stdout",
     "output_type": "stream",
     "text": [
      "not eligible\n"
     ]
    }
   ],
   "source": [
    "age = 16;\n",
    "gender = \"female\";\n",
    "if age < 18 and gender == \"male\":\n",
    "    print (\"allow\");\n",
    "else:\n",
    "    print(\"not eligible\");"
   ]
  },
  {
   "cell_type": "code",
   "execution_count": 26,
   "id": "e9d25311",
   "metadata": {},
   "outputs": [
    {
     "name": "stdout",
     "output_type": "stream",
     "text": [
      "231\n"
     ]
    }
   ],
   "source": [
    "English = 73;\n",
    "Islamiat = 81;\n",
    "Math = 77;\n",
    "print (English + Islamiat + Math);"
   ]
  },
  {
   "cell_type": "code",
   "execution_count": 35,
   "id": "74269f7d",
   "metadata": {},
   "outputs": [
    {
     "name": "stdout",
     "output_type": "stream",
     "text": [
      "77.0\n"
     ]
    }
   ],
   "source": [
    "Your_Marks = 231;\n",
    "Total_Marks = 300;\n",
    "percentage = Your_Marks/Total_Marks * 100;\n",
    "print (percentage);"
   ]
  },
  {
   "cell_type": "code",
   "execution_count": 1,
   "id": "719cf1b6",
   "metadata": {},
   "outputs": [
    {
     "name": "stdout",
     "output_type": "stream",
     "text": [
      "Grade A\n"
     ]
    }
   ],
   "source": [
    "percentage = 77;\n",
    "if percentage < 100 and percentage > 80:\n",
    "    print (\"Grade A+\");\n",
    "elif percentage < 80 and percentage > 70:\n",
    "    print (\"Grade A\");\n",
    "elif percentage < 70 and percentage > 60:\n",
    "    print (\"Grade B\");\n",
    "elif percentage < 60 and percentage > 50:\n",
    "    print (\"Grade C\");\n",
    "elif percentage < 50 and percentage > 40:\n",
    "    print (\"Grade D\");\n",
    "elif percentage < 40 and percentage > 33:\n",
    "    print (\"Grade E\");\n",
    "elif percentage < 0 and percentage > 100:\n",
    "    print (\"You Didn't enter the correct percentage\");\n",
    "else:\n",
    "    print (\"Fail\");"
   ]
  },
  {
   "cell_type": "code",
   "execution_count": 2,
   "id": "670cd206",
   "metadata": {},
   "outputs": [
    {
     "name": "stdout",
     "output_type": "stream",
     "text": [
      "Select any num22\n"
     ]
    },
    {
     "ename": "TypeError",
     "evalue": "can only concatenate str (not \"int\") to str",
     "output_type": "error",
     "traceback": [
      "\u001b[1;31m---------------------------------------------------------------------------\u001b[0m",
      "\u001b[1;31mTypeError\u001b[0m                                 Traceback (most recent call last)",
      "\u001b[1;32m<ipython-input-2-128131da3ee2>\u001b[0m in \u001b[0;36m<module>\u001b[1;34m\u001b[0m\n\u001b[0;32m      1\u001b[0m \u001b[0mx\u001b[0m \u001b[1;33m=\u001b[0m \u001b[0minput\u001b[0m\u001b[1;33m(\u001b[0m\u001b[1;34m\"Select any num\"\u001b[0m\u001b[1;33m)\u001b[0m\u001b[1;33m;\u001b[0m\u001b[1;33m\u001b[0m\u001b[1;33m\u001b[0m\u001b[0m\n\u001b[0;32m      2\u001b[0m \u001b[0mz\u001b[0m \u001b[1;33m=\u001b[0m \u001b[1;36m28\u001b[0m\u001b[1;33m;\u001b[0m\u001b[1;33m\u001b[0m\u001b[1;33m\u001b[0m\u001b[0m\n\u001b[1;32m----> 3\u001b[1;33m \u001b[0my\u001b[0m \u001b[1;33m=\u001b[0m \u001b[0mx\u001b[0m \u001b[1;33m+\u001b[0m \u001b[0mz\u001b[0m\u001b[1;33m;\u001b[0m\u001b[1;33m\u001b[0m\u001b[1;33m\u001b[0m\u001b[0m\n\u001b[0m\u001b[0;32m      4\u001b[0m \u001b[0mprint\u001b[0m \u001b[1;33m(\u001b[0m\u001b[0my\u001b[0m\u001b[1;33m)\u001b[0m\u001b[1;33m;\u001b[0m\u001b[1;33m\u001b[0m\u001b[1;33m\u001b[0m\u001b[0m\n",
      "\u001b[1;31mTypeError\u001b[0m: can only concatenate str (not \"int\") to str"
     ]
    }
   ],
   "source": [
    "x = input(\"Select any num\");\n",
    "z = 28;\n",
    "y = x + z;\n",
    "print (y);"
   ]
  },
  {
   "cell_type": "code",
   "execution_count": 3,
   "id": "7fa840e7",
   "metadata": {},
   "outputs": [
    {
     "name": "stdout",
     "output_type": "stream",
     "text": [
      "Select any num22\n",
      "50\n"
     ]
    }
   ],
   "source": [
    "x = int(input(\"Select any num\"));\n",
    "z = 28;\n",
    "y = x + z;\n",
    "print (y);"
   ]
  },
  {
   "cell_type": "code",
   "execution_count": 4,
   "id": "d4f67fa3",
   "metadata": {},
   "outputs": [
    {
     "name": "stdout",
     "output_type": "stream",
     "text": [
      "Select any num32\n",
      "60\n"
     ]
    }
   ],
   "source": [
    "x = input(\"Select any num\");\n",
    "z = 28;\n",
    "y = int(x) + z;\n",
    "print (y);"
   ]
  },
  {
   "cell_type": "code",
   "execution_count": 5,
   "id": "472a5056",
   "metadata": {},
   "outputs": [
    {
     "name": "stdout",
     "output_type": "stream",
     "text": [
      "27\n"
     ]
    }
   ],
   "source": [
    "x = 3**3;\n",
    "print (x);"
   ]
  },
  {
   "cell_type": "code",
   "execution_count": 6,
   "id": "fd68c091",
   "metadata": {},
   "outputs": [
    {
     "name": "stdout",
     "output_type": "stream",
     "text": [
      "Hello\n",
      "World\n"
     ]
    }
   ],
   "source": [
    "print (\"Hello\\nWorld\");"
   ]
  },
  {
   "cell_type": "code",
   "execution_count": 7,
   "id": "636a71ba",
   "metadata": {},
   "outputs": [
    {
     "name": "stdout",
     "output_type": "stream",
     "text": [
      "False\n"
     ]
    }
   ],
   "source": [
    "x = 99;\n",
    "y = 2;\n",
    "a = 20;\n",
    "b = -222;\n",
    "if x*y == a+b:\n",
    "    print (\"true\");\n",
    "else:\n",
    "    print(\"False\");"
   ]
  },
  {
   "cell_type": "code",
   "execution_count": 8,
   "id": "d640e224",
   "metadata": {},
   "outputs": [
    {
     "name": "stdout",
     "output_type": "stream",
     "text": [
      "Your Age18\n",
      "Your gendermale\n",
      "DOnT Allow\n"
     ]
    }
   ],
   "source": [
    "age =int(input(\"Your Age\"));\n",
    "gender = input (\"Your gender\");\n",
    "if age > 18 and gender == \"male\":\n",
    "    print (\"Allow\");\n",
    "else:\n",
    "    print(\"DOnT Allow\");"
   ]
  },
  {
   "cell_type": "code",
   "execution_count": 9,
   "id": "4b994405",
   "metadata": {},
   "outputs": [
    {
     "name": "stdout",
     "output_type": "stream",
     "text": [
      "Your Age18\n",
      "Your gendermale\n",
      "Allow\n"
     ]
    }
   ],
   "source": [
    "age =int(input(\"Your Age\"));\n",
    "gender = input (\"Your gender\");\n",
    "if age >= 18 and gender == \"male\":\n",
    "    print (\"Allow\");\n",
    "else:\n",
    "    print(\"DOnT Allow\");"
   ]
  },
  {
   "cell_type": "code",
   "execution_count": 1,
   "id": "ea2a00ea",
   "metadata": {},
   "outputs": [
    {
     "name": "stdout",
     "output_type": "stream",
     "text": [
      "[1.2]\n"
     ]
    }
   ],
   "source": [
    "# learn to code\n",
    "ant = [1.2];\n",
    "print (ant)"
   ]
  },
  {
   "cell_type": "code",
   "execution_count": 2,
   "id": "91bb3a14",
   "metadata": {},
   "outputs": [
    {
     "name": "stdout",
     "output_type": "stream",
     "text": [
      "1.2\n"
     ]
    }
   ],
   "source": [
    "# learn to code\n",
    "ant = (1.2);\n",
    "print (ant)"
   ]
  },
  {
   "cell_type": "code",
   "execution_count": 4,
   "id": "e131f9cc",
   "metadata": {},
   "outputs": [
    {
     "name": "stdout",
     "output_type": "stream",
     "text": [
      "hello\n",
      "World\n"
     ]
    }
   ],
   "source": [
    "\"\"\"We are learning python\n",
    "to make portfolio\"\"\"\n",
    "print (\"hello\\nWorld\");"
   ]
  },
  {
   "cell_type": "code",
   "execution_count": 5,
   "id": "ce9bc9d4",
   "metadata": {},
   "outputs": [
    {
     "name": "stdout",
     "output_type": "stream",
     "text": [
      "73 81 77\n"
     ]
    }
   ],
   "source": [
    "English = 73;\n",
    "Islamiat = 81;\n",
    "Math = 77;\n",
    "print (English, + Islamiat, + Math,);"
   ]
  },
  {
   "cell_type": "code",
   "execution_count": 14,
   "id": "93d77b6d",
   "metadata": {},
   "outputs": [
    {
     "name": "stdout",
     "output_type": "stream",
     "text": [
      "ant,CAT,DOG\n"
     ]
    }
   ],
   "source": [
    "English = \"ant\";\n",
    "Islamiat = \"CAT\";\n",
    "Math = \"DOG\";\n",
    "print (English+\",\"+Islamiat+\",\"+Math);"
   ]
  },
  {
   "cell_type": "code",
   "execution_count": 16,
   "id": "8cc189a4",
   "metadata": {},
   "outputs": [
    {
     "name": "stdout",
     "output_type": "stream",
     "text": [
      "['Sameer', 'Fari', 'AHMED', 'KHAN', 'SHan']\n"
     ]
    }
   ],
   "source": [
    "# List\n",
    "name = [\"Sameer\",\"Fari\",\"AHMED\",\"KHAN\",\"SHan\"];\n",
    "print (name)"
   ]
  },
  {
   "cell_type": "code",
   "execution_count": 17,
   "id": "0056882c",
   "metadata": {},
   "outputs": [
    {
     "name": "stdout",
     "output_type": "stream",
     "text": [
      "KHAN\n"
     ]
    }
   ],
   "source": [
    "print (name[3]);"
   ]
  },
  {
   "cell_type": "code",
   "execution_count": 19,
   "id": "74599080",
   "metadata": {},
   "outputs": [
    {
     "name": "stdout",
     "output_type": "stream",
     "text": [
      "['Sameer', 'friyal', 'AHMED', 'KHAN', 'SHan']\n"
     ]
    }
   ],
   "source": [
    "name[1] =\"friyal\";\n",
    "print(name);"
   ]
  },
  {
   "cell_type": "code",
   "execution_count": 23,
   "id": "2491fb2a",
   "metadata": {},
   "outputs": [
    {
     "name": "stdout",
     "output_type": "stream",
     "text": [
      "['Sameer', 'friyal', 'AHMED', 'KHAN', 'SHan', 'Shahruk']\n"
     ]
    }
   ],
   "source": [
    "name.append(\"Shahruk\");\n",
    "print(name);"
   ]
  },
  {
   "cell_type": "code",
   "execution_count": 24,
   "id": "980fb6a6",
   "metadata": {},
   "outputs": [
    {
     "name": "stdout",
     "output_type": "stream",
     "text": [
      "['Sameer', 'friyal', 'AHMED', 'KHAN', 'SHan', 'Shahruk', 'murtaza']\n"
     ]
    }
   ],
   "source": [
    "name.append(\"murtaza\");\n",
    "print(name);"
   ]
  },
  {
   "cell_type": "code",
   "execution_count": 2,
   "id": "75409c37",
   "metadata": {},
   "outputs": [
    {
     "name": "stdout",
     "output_type": "stream",
     "text": [
      "['cat', 12, False, 11.33]\n"
     ]
    }
   ],
   "source": [
    "arr = [\"cat\",12,False,11.33];\n",
    "print(arr);"
   ]
  },
  {
   "cell_type": "code",
   "execution_count": 3,
   "id": "38c7969d",
   "metadata": {},
   "outputs": [
    {
     "ename": "NameError",
     "evalue": "name 'name' is not defined",
     "output_type": "error",
     "traceback": [
      "\u001b[1;31m---------------------------------------------------------------------------\u001b[0m",
      "\u001b[1;31mNameError\u001b[0m                                 Traceback (most recent call last)",
      "\u001b[1;32m<ipython-input-3-9bc0cb2ed6de>\u001b[0m in \u001b[0;36m<module>\u001b[1;34m\u001b[0m\n\u001b[1;32m----> 1\u001b[1;33m \u001b[0mname\u001b[0m\u001b[1;33m\u001b[0m\u001b[1;33m\u001b[0m\u001b[0m\n\u001b[0m",
      "\u001b[1;31mNameError\u001b[0m: name 'name' is not defined"
     ]
    }
   ],
   "source": [
    "name"
   ]
  },
  {
   "cell_type": "code",
   "execution_count": 4,
   "id": "49c0953d",
   "metadata": {},
   "outputs": [
    {
     "name": "stdout",
     "output_type": "stream",
     "text": [
      "['Bukhai', 'AHmed', 'Murtaza', 'Shan', 'DILAWAR']\n"
     ]
    }
   ],
   "source": [
    "name =[\"Bukhai\",\"AHmed\",\"Murtaza\",\"Shan\",\"DILAWAR\"];\n",
    "print(name);"
   ]
  },
  {
   "cell_type": "code",
   "execution_count": 5,
   "id": "f655b934",
   "metadata": {},
   "outputs": [
    {
     "name": "stdout",
     "output_type": "stream",
     "text": [
      "['cat', 12, False, 11.33, 'Bukhai', 'AHmed', 'Murtaza', 'Shan', 'DILAWAR']\n"
     ]
    }
   ],
   "source": [
    "newList = arr + name\n",
    "print(newList);"
   ]
  },
  {
   "cell_type": "code",
   "execution_count": 6,
   "id": "ebb0679d",
   "metadata": {},
   "outputs": [
    {
     "data": {
      "text/plain": [
       "['Bukhai', 'AHmed', 'Murtaza', 'Shan', 'DILAWAR']"
      ]
     },
     "execution_count": 6,
     "metadata": {},
     "output_type": "execute_result"
    }
   ],
   "source": [
    "name"
   ]
  },
  {
   "cell_type": "code",
   "execution_count": 8,
   "id": "4c5c2731",
   "metadata": {},
   "outputs": [
    {
     "name": "stdout",
     "output_type": "stream",
     "text": [
      "['Bukhai', 'AHmed', 'Feroz', 'Shan', 'DILAWAR']\n"
     ]
    }
   ],
   "source": [
    "name[2] = \"Feroz\";\n",
    "print(name)"
   ]
  },
  {
   "cell_type": "code",
   "execution_count": 11,
   "id": "01424215",
   "metadata": {},
   "outputs": [
    {
     "name": "stdout",
     "output_type": "stream",
     "text": [
      "['Bukhai', 'AHmed', 'Feroz', 'Shan', 'DILAWAR', 'Sam', 'Sam']\n"
     ]
    }
   ],
   "source": [
    "name.append(\"Sam\");\n",
    "print(name);"
   ]
  },
  {
   "cell_type": "code",
   "execution_count": 14,
   "id": "250a10bf",
   "metadata": {},
   "outputs": [
    {
     "name": "stdout",
     "output_type": "stream",
     "text": [
      "['Bukhai', 'AHmed', 'Feroz', 'King', 'Shan', 'DILAWAR', 'Sam', 'Sam']\n"
     ]
    }
   ],
   "source": [
    "name.insert(3,\"King\");\n",
    "print(name);"
   ]
  },
  {
   "cell_type": "code",
   "execution_count": 16,
   "id": "4761afd8",
   "metadata": {},
   "outputs": [
    {
     "name": "stdout",
     "output_type": "stream",
     "text": [
      "['Feroz', 'King', 'Shan', 'DILAWAR']\n"
     ]
    }
   ],
   "source": [
    "name2 = name[2:6];\n",
    "print(name2);"
   ]
  },
  {
   "cell_type": "code",
   "execution_count": 17,
   "id": "3d1b7e42",
   "metadata": {},
   "outputs": [
    {
     "name": "stdout",
     "output_type": "stream",
     "text": [
      "['AHmed', 'Feroz', 'King', 'Shan', 'DILAWAR', 'Sam', 'Sam']\n"
     ]
    }
   ],
   "source": [
    "name3 =name[1:8];\n",
    "print(name3)"
   ]
  },
  {
   "cell_type": "code",
   "execution_count": 20,
   "id": "792aa490",
   "metadata": {},
   "outputs": [
    {
     "name": "stdout",
     "output_type": "stream",
     "text": [
      "['Bukhai', 'AHmed', 'Feroz', 'King']\n"
     ]
    }
   ],
   "source": [
    " name4= name[0:4];\n",
    "print(name4);"
   ]
  },
  {
   "cell_type": "code",
   "execution_count": 21,
   "id": "2277ef46",
   "metadata": {},
   "outputs": [
    {
     "name": "stdout",
     "output_type": "stream",
     "text": [
      "['Bukhai', 'AHmed', 'Feroz', 'King', 'Shan', 'DILAWAR', 'Sam']\n"
     ]
    }
   ],
   "source": [
    "del name[6];\n",
    "print(name);"
   ]
  },
  {
   "cell_type": "code",
   "execution_count": 24,
   "id": "6f2762ea",
   "metadata": {},
   "outputs": [
    {
     "name": "stdout",
     "output_type": "stream",
     "text": [
      "['Bukhai', 'AHmed', 'Feroz', 'Shan', 'DILAWAR', 'Sam']\n"
     ]
    }
   ],
   "source": [
    "name.remove(\"King\");\n",
    "print(name);"
   ]
  },
  {
   "cell_type": "code",
   "execution_count": 25,
   "id": "a53e6217",
   "metadata": {},
   "outputs": [
    {
     "name": "stdout",
     "output_type": "stream",
     "text": [
      "['Bukhai', 'AHmed', 'Feroz', 'Shan', 'DILAWAR']\n"
     ]
    }
   ],
   "source": [
    "name.pop();\n",
    "print(name);"
   ]
  },
  {
   "cell_type": "code",
   "execution_count": 28,
   "id": "a16b745e",
   "metadata": {},
   "outputs": [
    {
     "name": "stdout",
     "output_type": "stream",
     "text": [
      "['Bukhai', 'AHmed', 'Feroz', 'Shan']\n"
     ]
    }
   ],
   "source": [
    "name.pop();\n",
    "print(name);"
   ]
  },
  {
   "cell_type": "code",
   "execution_count": 29,
   "id": "40a72959",
   "metadata": {},
   "outputs": [
    {
     "name": "stdout",
     "output_type": "stream",
     "text": [
      "['Bukhai', 'AHmed', 'Feroz', 'Shan', 12]\n"
     ]
    }
   ],
   "source": [
    "name.append(12);\n",
    "print(name);"
   ]
  },
  {
   "cell_type": "code",
   "execution_count": 31,
   "id": "80aea918",
   "metadata": {},
   "outputs": [
    {
     "name": "stdout",
     "output_type": "stream",
     "text": [
      "['Bukhai', 'AHmed', 'Feroz', 'Shan']\n"
     ]
    }
   ],
   "source": [
    "name.remove(12);\n",
    "print(name)"
   ]
  },
  {
   "cell_type": "code",
   "execution_count": 32,
   "id": "91adad5d",
   "metadata": {},
   "outputs": [
    {
     "name": "stdout",
     "output_type": "stream",
     "text": [
      "['Feroz', 'Shan']\n"
     ]
    }
   ],
   "source": [
    "name0=name[2:];\n",
    "print(name0)"
   ]
  },
  {
   "cell_type": "code",
   "execution_count": 4,
   "id": "3e7e00c2",
   "metadata": {},
   "outputs": [
    {
     "name": "stdout",
     "output_type": "stream",
     "text": [
      "Your Age 17\n",
      "Your Gender male\n",
      "Not allowed\n"
     ]
    }
   ],
   "source": [
    "age = int(input(\"Your Age \"));\n",
    "gender = input(\"Your Gender \");\n",
    "if age >= 18 and gender == \"male\":\n",
    "    print(\"Allowed\");\n",
    "else:\n",
    "    print(\"Not allowed\");"
   ]
  },
  {
   "cell_type": "code",
   "execution_count": 6,
   "id": "ccabc69b",
   "metadata": {},
   "outputs": [
    {
     "name": "stdout",
     "output_type": "stream",
     "text": [
      "Select any number 11\n",
      "130\n"
     ]
    }
   ],
   "source": [
    "x = input(\"Select any number \");\n",
    "y = 119;\n",
    "z = int(x) + y;\n",
    "print(z);"
   ]
  },
  {
   "cell_type": "code",
   "execution_count": 7,
   "id": "36b7f95d",
   "metadata": {},
   "outputs": [
    {
     "name": "stdout",
     "output_type": "stream",
     "text": [
      "['zoya', 'alif', 'zia', 'mirza', 'asra']\n"
     ]
    }
   ],
   "source": [
    "name1 = [\"zoya\",\"alif\",\"zia\",\"mirza\",\"asra\"];\n",
    "print(name1);"
   ]
  },
  {
   "cell_type": "code",
   "execution_count": 13,
   "id": "d62a9ecc",
   "metadata": {},
   "outputs": [],
   "source": [
    "name2 = [\"Tina\",12,False,420];"
   ]
  },
  {
   "cell_type": "code",
   "execution_count": 15,
   "id": "10ac92e0",
   "metadata": {},
   "outputs": [
    {
     "name": "stdout",
     "output_type": "stream",
     "text": [
      "['zoya', 'alif', 'zia', 'mirza', 'asra', 'Tina', 12, False, 420]\n"
     ]
    }
   ],
   "source": [
    "name = name1 + name2;\n",
    "print(name);"
   ]
  },
  {
   "cell_type": "code",
   "execution_count": 18,
   "id": "a23e1ccb",
   "metadata": {},
   "outputs": [
    {
     "name": "stdout",
     "output_type": "stream",
     "text": [
      "['zoya', 'atif', 'zia', 'mirza', 'asra', 'Tina', 12, False, 420]\n"
     ]
    }
   ],
   "source": [
    "name[1] = \"atif\";\n",
    "print(name);"
   ]
  },
  {
   "cell_type": "code",
   "execution_count": 20,
   "id": "4b261c00",
   "metadata": {},
   "outputs": [],
   "source": [
    "name.append(\"kulsoom\");"
   ]
  },
  {
   "cell_type": "code",
   "execution_count": 21,
   "id": "4638b03e",
   "metadata": {},
   "outputs": [
    {
     "name": "stdout",
     "output_type": "stream",
     "text": [
      "['zoya', 'atif', 'zia', 'mirza', 'asra', 'Tina', 12, False, 420, 'kulsoom']\n"
     ]
    }
   ],
   "source": [
    "print(name);"
   ]
  },
  {
   "cell_type": "code",
   "execution_count": 22,
   "id": "bb8cbe53",
   "metadata": {},
   "outputs": [
    {
     "name": "stdout",
     "output_type": "stream",
     "text": [
      "['zoya', 'atif', 'zia', 'Umme HAni', 'mirza', 'asra', 'Tina', 12, False, 420, 'kulsoom']\n"
     ]
    }
   ],
   "source": [
    "name.insert(3,\"Umme HAni\");\n",
    "print(name);"
   ]
  },
  {
   "cell_type": "code",
   "execution_count": 23,
   "id": "e28cf30d",
   "metadata": {},
   "outputs": [
    {
     "ename": "NameError",
     "evalue": "name 'name3' is not defined",
     "output_type": "error",
     "traceback": [
      "\u001b[1;31m---------------------------------------------------------------------------\u001b[0m",
      "\u001b[1;31mNameError\u001b[0m                                 Traceback (most recent call last)",
      "\u001b[1;32m<ipython-input-23-71f610855351>\u001b[0m in \u001b[0;36m<module>\u001b[1;34m\u001b[0m\n\u001b[1;32m----> 1\u001b[1;33m \u001b[0mname\u001b[0m \u001b[1;33m=\u001b[0m \u001b[0mname3\u001b[0m\u001b[1;33m;\u001b[0m\u001b[1;33m\u001b[0m\u001b[1;33m\u001b[0m\u001b[0m\n\u001b[0m\u001b[0;32m      2\u001b[0m \u001b[0mprint\u001b[0m\u001b[1;33m(\u001b[0m\u001b[0mname3\u001b[0m\u001b[1;33m)\u001b[0m\u001b[1;33m;\u001b[0m\u001b[1;33m\u001b[0m\u001b[1;33m\u001b[0m\u001b[0m\n",
      "\u001b[1;31mNameError\u001b[0m: name 'name3' is not defined"
     ]
    }
   ],
   "source": [
    "name =;\n",
    "printname3);"
   ]
  },
  {
   "cell_type": "code",
   "execution_count": 24,
   "id": "d3c99082",
   "metadata": {},
   "outputs": [
    {
     "name": "stdout",
     "output_type": "stream",
     "text": [
      "['zoya', 'atif', 'zia', 'Umme HAni', 'mirza', 'asra', 'Tina', 12, False, 420, 'kulsoom']\n"
     ]
    }
   ],
   "source": [
    "print(name);"
   ]
  },
  {
   "cell_type": "code",
   "execution_count": 25,
   "id": "489f4794",
   "metadata": {},
   "outputs": [
    {
     "name": "stdout",
     "output_type": "stream",
     "text": [
      "['atif', 'zia', 'Umme HAni', 'mirza']\n"
     ]
    }
   ],
   "source": [
    "name3 = name[1:5];\n",
    "print(name3);"
   ]
  },
  {
   "cell_type": "code",
   "execution_count": 27,
   "id": "771ae0ec",
   "metadata": {},
   "outputs": [
    {
     "name": "stdout",
     "output_type": "stream",
     "text": [
      "['atif', 'zia', 'Umme HAni']\n"
     ]
    }
   ],
   "source": [
    "name4 = name3[:3];\n",
    "print(name4);"
   ]
  },
  {
   "cell_type": "code",
   "execution_count": 28,
   "id": "f19b11f8",
   "metadata": {},
   "outputs": [
    {
     "name": "stdout",
     "output_type": "stream",
     "text": [
      "['zia', 'Umme HAni']\n"
     ]
    }
   ],
   "source": [
    "name5 = name4[1:];\n",
    "print(name5);"
   ]
  },
  {
   "cell_type": "code",
   "execution_count": 29,
   "id": "d795f257",
   "metadata": {},
   "outputs": [
    {
     "name": "stdout",
     "output_type": "stream",
     "text": [
      "['zoya', 'atif', 'zia', 'Umme HAni', 'mirza', 'asra', 'Tina', 12, False, 420, 'kulsoom']\n"
     ]
    }
   ],
   "source": [
    "print(name);"
   ]
  },
  {
   "cell_type": "code",
   "execution_count": 30,
   "id": "88ee3ba2",
   "metadata": {},
   "outputs": [
    {
     "ename": "SyntaxError",
     "evalue": "invalid syntax (<ipython-input-30-616b1aa575e2>, line 1)",
     "output_type": "error",
     "traceback": [
      "\u001b[1;36m  File \u001b[1;32m\"<ipython-input-30-616b1aa575e2>\"\u001b[1;36m, line \u001b[1;32m1\u001b[0m\n\u001b[1;33m    name.del[3];\u001b[0m\n\u001b[1;37m         ^\u001b[0m\n\u001b[1;31mSyntaxError\u001b[0m\u001b[1;31m:\u001b[0m invalid syntax\n"
     ]
    }
   ],
   "source": [
    "name.del[3];\n",
    "print(name);"
   ]
  },
  {
   "cell_type": "code",
   "execution_count": 31,
   "id": "71dd73d4",
   "metadata": {},
   "outputs": [
    {
     "name": "stdout",
     "output_type": "stream",
     "text": [
      "['zoya', 'atif', 'zia', 'mirza', 'asra', 'Tina', 12, False, 420, 'kulsoom']\n"
     ]
    }
   ],
   "source": [
    "del name[3];\n",
    "print(name);"
   ]
  },
  {
   "cell_type": "code",
   "execution_count": 32,
   "id": "0248964b",
   "metadata": {},
   "outputs": [
    {
     "name": "stdout",
     "output_type": "stream",
     "text": [
      "['zoya', 'atif', 'zia', 'mirza', 'asra', 'Tina', False, 420, 'kulsoom']\n"
     ]
    }
   ],
   "source": [
    "name.remove(12);\n",
    "print(name);"
   ]
  },
  {
   "cell_type": "code",
   "execution_count": 33,
   "id": "51e1cea1",
   "metadata": {},
   "outputs": [
    {
     "name": "stdout",
     "output_type": "stream",
     "text": [
      "['zoya', 'atif', 'zia', 'mirza', 'asra', 'Tina', False, 420]\n"
     ]
    }
   ],
   "source": [
    "name.pop();\n",
    "print(name);"
   ]
  },
  {
   "cell_type": "code",
   "execution_count": 34,
   "id": "ab1b2ff0",
   "metadata": {},
   "outputs": [
    {
     "name": "stdout",
     "output_type": "stream",
     "text": [
      "['zoya', 'atif', 'zia', 'mirza', 'asra', False, 420]\n"
     ]
    }
   ],
   "source": [
    "name.pop(5);\n",
    "print(name);"
   ]
  },
  {
   "cell_type": "code",
   "execution_count": null,
   "id": "8441a21a",
   "metadata": {},
   "outputs": [],
   "source": []
  },
  {
   "cell_type": "code",
   "execution_count": null,
   "id": "379e7f7d",
   "metadata": {},
   "outputs": [],
   "source": []
  }
 ],
 "metadata": {
  "kernelspec": {
   "display_name": "Python 3",
   "language": "python",
   "name": "python3"
  },
  "language_info": {
   "codemirror_mode": {
    "name": "ipython",
    "version": 3
   },
   "file_extension": ".py",
   "mimetype": "text/x-python",
   "name": "python",
   "nbconvert_exporter": "python",
   "pygments_lexer": "ipython3",
   "version": "3.8.8"
  }
 },
 "nbformat": 4,
 "nbformat_minor": 5
}
