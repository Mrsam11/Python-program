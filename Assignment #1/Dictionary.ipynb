{
 "cells": [
  {
   "cell_type": "code",
   "execution_count": 1,
   "id": "fe51c4f3",
   "metadata": {},
   "outputs": [
    {
     "name": "stdout",
     "output_type": "stream",
     "text": [
      "{'a': 1, 'b': 2, 'c': 3, 'd': 4, 'e': 5, 'f': 6, 'g': 7}\n"
     ]
    }
   ],
   "source": [
    "list1 = [1,2,3,4,5,6,7]\n",
    "list2 = [\"a\",\"b\",\"c\",\"d\",\"e\",\"f\",\"g\"]\n",
    "# combine two lists into a dictionary\n",
    "d = {list2[i]:list1[i] for i in range(len(list1))}\n",
    "print(d)"
   ]
  },
  {
   "cell_type": "code",
   "execution_count": 4,
   "id": "20ef383b",
   "metadata": {},
   "outputs": [
    {
     "name": "stdout",
     "output_type": "stream",
     "text": [
      "<class 'dict'>\n"
     ]
    },
    {
     "data": {
      "text/plain": [
       "{'Sameer': '0349-0219984', 'Ahmed': '0320-1276324'}"
      ]
     },
     "execution_count": 4,
     "metadata": {},
     "output_type": "execute_result"
    }
   ],
   "source": [
    "a = {'Sameer' : '0349-0219984' , 'Ahmed' : '0320-1276324'}\n",
    "print(type(a))\n",
    "a"
   ]
  },
  {
   "cell_type": "code",
   "execution_count": 3,
   "id": "4cbae6cd",
   "metadata": {},
   "outputs": [
    {
     "data": {
      "text/plain": [
       "{1: 's', 2: 'a', 3: 'm'}"
      ]
     },
     "execution_count": 3,
     "metadata": {},
     "output_type": "execute_result"
    }
   ],
   "source": [
    "a = dict([(1,'s'),(2,'a'),(3,'m')]) #another way of writing dictionary\n",
    "a"
   ]
  },
  {
   "cell_type": "code",
   "execution_count": 18,
   "id": "7f7a2884",
   "metadata": {},
   "outputs": [],
   "source": [
    "a = {\n",
    "    'a':['sameer','ahmed'],\n",
    "    'b':['saleem','ahmed'],\n",
    "    'c':'car',\n",
    "    \"d\":'bus'\n",
    "}\n",
    "a[\"c\"]#for calling separte key or value in a dict\n",
    "a['a'][1]#for calling value in a list byusing index numn \n",
    "a.get('f')"
   ]
  },
  {
   "cell_type": "code",
   "execution_count": 29,
   "id": "1ac12c4c",
   "metadata": {},
   "outputs": [
    {
     "name": "stdout",
     "output_type": "stream",
     "text": [
      "None\n"
     ]
    },
    {
     "data": {
      "text/plain": [
       "'Not Found'"
      ]
     },
     "execution_count": 29,
     "metadata": {},
     "output_type": "execute_result"
    }
   ],
   "source": [
    "a = {\n",
    "    'a':'ahmed',\n",
    "    'b':'saleem',\n",
    "    'c':'car',\n",
    "    \"d\":'bus'\n",
    "} \n",
    "print(a.get('f'))#use .get() if var doesnt exist in dict this will not abbort the program\n",
    "a.get('E','Not Found')"
   ]
  },
  {
   "cell_type": "code",
   "execution_count": 30,
   "id": "1a8f43e1",
   "metadata": {},
   "outputs": [
    {
     "name": "stdout",
     "output_type": "stream",
     "text": [
      "a\n",
      "b\n",
      "c\n",
      "d\n"
     ]
    }
   ],
   "source": [
    "for i in a.keys(): # use keys # using this for reminding or treverse the keys of the dictionary\n",
    "    print(i)"
   ]
  },
  {
   "cell_type": "code",
   "execution_count": 31,
   "id": "6e74dca9",
   "metadata": {},
   "outputs": [
    {
     "name": "stdout",
     "output_type": "stream",
     "text": [
      "ahmed\n",
      "saleem\n",
      "car\n",
      "bus\n"
     ]
    }
   ],
   "source": [
    "for i in a.values():#For reminding or treverse value\n",
    "    print(i)"
   ]
  },
  {
   "cell_type": "code",
   "execution_count": 33,
   "id": "00c9697f",
   "metadata": {},
   "outputs": [
    {
     "name": "stdout",
     "output_type": "stream",
     "text": [
      "a ahmed\n",
      "b saleem\n",
      "c car\n",
      "d bus\n"
     ]
    }
   ],
   "source": [
    "for key , value in a.items(): #for reminding the value and keys both # using any var instead of key,value\n",
    "    print(key,value)"
   ]
  },
  {
   "cell_type": "code",
   "execution_count": 56,
   "id": "7165fd63",
   "metadata": {},
   "outputs": [
    {
     "name": "stdout",
     "output_type": "stream",
     "text": [
      "{1: 'a', 2: 'b', 3: 'c', 4: 'd', 5: 'e', 6: 'f', 7: 'g'}\n"
     ]
    }
   ],
   "source": [
    "list1 = [1,2,3,4,5,6,7] #key\n",
    "list2 = ['a','b','c','d','e','f','g'] #value\n",
    "res = {} # creating empty dict using any var\n",
    "for key in list1:\n",
    "    for value in list2:\n",
    "        res[key] = value #append key in res which is also assigning  value in res \n",
    "        #remove every value we use so that can't be same in all loops\n",
    "        list2.remove(value)# removing list 2 value because we want to run loop only once for next value each time\n",
    "        break\n",
    "print(res)"
   ]
  },
  {
   "cell_type": "code",
   "execution_count": 58,
   "id": "e9e64af1",
   "metadata": {},
   "outputs": [
    {
     "name": "stdout",
     "output_type": "stream",
     "text": [
      "{1: 'a', 2: 'b', 3: 'c', 4: 'd', 5: 'e', 6: 'f', 7: 'g'}\n"
     ]
    }
   ],
   "source": [
    "list1 = [1,2,3,4,5,6,7] #key\n",
    "list2 = ['a','b','c','d','e','f','g'] #value\n",
    "#res = {} # creating empty dict using any var\n",
    "res = dict(zip(list1, list2))\n",
    "#zip is a constructor which combine two corresponding value\n",
    "print(res)"
   ]
  },
  {
   "cell_type": "code",
   "execution_count": 62,
   "id": "100a317c",
   "metadata": {},
   "outputs": [
    {
     "name": "stdout",
     "output_type": "stream",
     "text": [
      "2 x 1 = 2\n",
      "2 x 2 = 4\n",
      "2 x 3 = 6\n",
      "2 x 4 = 8\n",
      "2 x 5 = 10\n",
      "2 x 6 = 12\n",
      "2 x 7 = 14\n",
      "2 x 8 = 16\n",
      "2 x 9 = 18\n",
      "2 x 10 = 20\n"
     ]
    }
   ],
   "source": [
    "h = [2*x for x in range(1,11)]\n",
    "for i in range(len(h)):\n",
    "    print(2,'x',i+1,'=',h[i])"
   ]
  },
  {
   "cell_type": "code",
   "execution_count": null,
   "id": "f4995fb0",
   "metadata": {},
   "outputs": [],
   "source": []
  }
 ],
 "metadata": {
  "kernelspec": {
   "display_name": "Python 3",
   "language": "python",
   "name": "python3"
  },
  "language_info": {
   "codemirror_mode": {
    "name": "ipython",
    "version": 3
   },
   "file_extension": ".py",
   "mimetype": "text/x-python",
   "name": "python",
   "nbconvert_exporter": "python",
   "pygments_lexer": "ipython3",
   "version": "3.8.8"
  }
 },
 "nbformat": 4,
 "nbformat_minor": 5
}
