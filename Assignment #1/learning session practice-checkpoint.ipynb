{
 "cells": [
  {
   "cell_type": "code",
   "execution_count": 1,
   "id": "75fcdd6d",
   "metadata": {},
   "outputs": [
    {
     "name": "stdout",
     "output_type": "stream",
     "text": [
      "hello world\n"
     ]
    }
   ],
   "source": [
    "print (\"hello world\");"
   ]
  },
  {
   "cell_type": "code",
   "execution_count": 2,
   "id": "feccd83c",
   "metadata": {},
   "outputs": [
    {
     "name": "stdout",
     "output_type": "stream",
     "text": [
      "c\n"
     ]
    }
   ],
   "source": [
    "a = 20;\n",
    "b = -2;\n",
    "c = a + b;\n",
    "print (\"c\");"
   ]
  },
  {
   "cell_type": "code",
   "execution_count": 3,
   "id": "c11f62fd",
   "metadata": {},
   "outputs": [
    {
     "name": "stdout",
     "output_type": "stream",
     "text": [
      "18\n"
     ]
    }
   ],
   "source": [
    "a = 20;\n",
    "b = -2;\n",
    "c = a + b;\n",
    "print (c);"
   ]
  },
  {
   "cell_type": "code",
   "execution_count": 5,
   "id": "fe81dd82",
   "metadata": {},
   "outputs": [
    {
     "name": "stdout",
     "output_type": "stream",
     "text": [
      "sameer ahmed\n"
     ]
    }
   ],
   "source": [
    "x = \"sameer \";\n",
    "y = \"ahmed\";\n",
    "z = x + y;\n",
    "print (z);"
   ]
  },
  {
   "cell_type": "code",
   "execution_count": 8,
   "id": "04926023",
   "metadata": {},
   "outputs": [
    {
     "name": "stdout",
     "output_type": "stream",
     "text": [
      "52\n"
     ]
    }
   ],
   "source": [
    "s = \"5\";\n",
    "y = \"2\";\n",
    "q = s + y;\n",
    "print (q);"
   ]
  },
  {
   "cell_type": "code",
   "execution_count": 10,
   "id": "bb9d603b",
   "metadata": {},
   "outputs": [
    {
     "name": "stdout",
     "output_type": "stream",
     "text": [
      "19\n"
     ]
    }
   ],
   "source": [
    "x = 7;\n",
    "y = 10 + x;\n",
    "z = x + y - 5;\n",
    "print (z);"
   ]
  },
  {
   "cell_type": "code",
   "execution_count": 12,
   "id": "5cfe6812",
   "metadata": {},
   "outputs": [
    {
     "name": "stdout",
     "output_type": "stream",
     "text": [
      "32.0\n"
     ]
    }
   ],
   "source": [
    "a = 2 - 4 / 2 + 4 * 8;\n",
    "print (a);"
   ]
  },
  {
   "cell_type": "code",
   "execution_count": 13,
   "id": "13a86839",
   "metadata": {},
   "outputs": [
    {
     "name": "stdout",
     "output_type": "stream",
     "text": [
      "-2.6666666666666665\n"
     ]
    }
   ],
   "source": [
    "a = ((2 - 4) / (2 + 4) * 8);\n",
    "print (a);"
   ]
  },
  {
   "cell_type": "code",
   "execution_count": 1,
   "id": "4743706f",
   "metadata": {},
   "outputs": [
    {
     "name": "stdout",
     "output_type": "stream",
     "text": [
      "2\n"
     ]
    }
   ],
   "source": [
    "x = 8;\n",
    "y = x%3;\n",
    "print (y);"
   ]
  },
  {
   "cell_type": "code",
   "execution_count": 2,
   "id": "93461d3f",
   "metadata": {},
   "outputs": [
    {
     "name": "stdout",
     "output_type": "stream",
     "text": [
      "7\n"
     ]
    }
   ],
   "source": [
    "s = 12;\n",
    "s = 7;\n",
    "print (s);"
   ]
  },
  {
   "cell_type": "code",
   "execution_count": 3,
   "id": "ab0019ae",
   "metadata": {},
   "outputs": [
    {
     "name": "stdout",
     "output_type": "stream",
     "text": [
      "10\n"
     ]
    }
   ],
   "source": [
    " y = 9;\n",
    "y = y + 1;\n",
    "print (y);"
   ]
  },
  {
   "cell_type": "code",
   "execution_count": 4,
   "id": "9fe7be37",
   "metadata": {},
   "outputs": [
    {
     "name": "stdout",
     "output_type": "stream",
     "text": [
      "9\n"
     ]
    }
   ],
   "source": [
    "a = 2;\n",
    "a+= 7;\n",
    "print (a);"
   ]
  },
  {
   "cell_type": "code",
   "execution_count": 5,
   "id": "2bad86f9",
   "metadata": {},
   "outputs": [
    {
     "name": "stdout",
     "output_type": "stream",
     "text": [
      "6\n"
     ]
    }
   ],
   "source": [
    "a = 3;\n",
    "a = a+ 3;\n",
    "print(a);"
   ]
  },
  {
   "cell_type": "code",
   "execution_count": 6,
   "id": "b6e6ffea",
   "metadata": {},
   "outputs": [
    {
     "name": "stdout",
     "output_type": "stream",
     "text": [
      "6\n"
     ]
    }
   ],
   "source": [
    "y = 8;\n",
    "y-= 2;\n",
    "print (y);"
   ]
  },
  {
   "cell_type": "code",
   "execution_count": 7,
   "id": "bffa54bc",
   "metadata": {},
   "outputs": [
    {
     "name": "stdout",
     "output_type": "stream",
     "text": [
      "27\n"
     ]
    }
   ],
   "source": [
    "y = 9;\n",
    "y*= 3;\n",
    "print(y);"
   ]
  },
  {
   "cell_type": "code",
   "execution_count": 8,
   "id": "e2396117",
   "metadata": {},
   "outputs": [
    {
     "name": "stdout",
     "output_type": "stream",
     "text": [
      "1\n"
     ]
    }
   ],
   "source": [
    "y = 10;\n",
    "y%= 3;\n",
    "print(y);\n"
   ]
  },
  {
   "cell_type": "code",
   "execution_count": 10,
   "id": "bf12805f",
   "metadata": {},
   "outputs": [
    {
     "name": "stdout",
     "output_type": "stream",
     "text": [
      "my name is Sameer Ahmed\n"
     ]
    }
   ],
   "source": [
    "a = \"Sameer Ahmed\"\n",
    "print (\"my name is \" + a);"
   ]
  },
  {
   "cell_type": "code",
   "execution_count": 11,
   "id": "b7699d02",
   "metadata": {},
   "outputs": [
    {
     "name": "stdout",
     "output_type": "stream",
     "text": [
      "Allow for Ride\n"
     ]
    }
   ],
   "source": [
    "gender = \"male\";\n",
    "if gender == \"male\":\n",
    "    print (\"Allow for Ride\");"
   ]
  },
  {
   "cell_type": "code",
   "execution_count": 12,
   "id": "7c751018",
   "metadata": {},
   "outputs": [
    {
     "name": "stdout",
     "output_type": "stream",
     "text": [
      "you are not eligible\n"
     ]
    }
   ],
   "source": [
    "gender = \"female\";\n",
    "if gender == \"male\":\n",
    "    print (\"Allow for Ride\");\n",
    "else:\n",
    "    print (\"you are not eligible\");"
   ]
  },
  {
   "cell_type": "code",
   "execution_count": 13,
   "id": "98f6198e",
   "metadata": {},
   "outputs": [
    {
     "name": "stdout",
     "output_type": "stream",
     "text": [
      "Allow for Ride\n"
     ]
    }
   ],
   "source": [
    "gender = \"female\";\n",
    "if gender != \"male\":\n",
    "    print (\"Allow for Ride\");\n",
    "else:\n",
    "    print (\"you are not eligible\");"
   ]
  },
  {
   "cell_type": "code",
   "execution_count": 14,
   "id": "2a45eaea",
   "metadata": {},
   "outputs": [
    {
     "name": "stdout",
     "output_type": "stream",
     "text": [
      "not eligible\n"
     ]
    }
   ],
   "source": [
    "age = 16;\n",
    "gender = \"female\";\n",
    "if age > 18 or gender == \"male\":\n",
    "    print (\"allow\");\n",
    "else:\n",
    "    print(\"not eligible\");"
   ]
  },
  {
   "cell_type": "code",
   "execution_count": 15,
   "id": "2d36e136",
   "metadata": {},
   "outputs": [
    {
     "name": "stdout",
     "output_type": "stream",
     "text": [
      "allow\n"
     ]
    }
   ],
   "source": [
    "age = 16;\n",
    "gender = \"female\";\n",
    "if age < 18 or gender != \"male\":\n",
    "    print (\"allow\");\n",
    "else:\n",
    "    print(\"not eligible\");"
   ]
  },
  {
   "cell_type": "code",
   "execution_count": 16,
   "id": "baa7f2d9",
   "metadata": {},
   "outputs": [
    {
     "name": "stdout",
     "output_type": "stream",
     "text": [
      "allow\n"
     ]
    }
   ],
   "source": [
    "age = 16;\n",
    "gender = \"female\";\n",
    "if age < 18 or gender == \"male\":\n",
    "    print (\"allow\");\n",
    "else:\n",
    "    print(\"not eligible\");"
   ]
  },
  {
   "cell_type": "code",
   "execution_count": 17,
   "id": "71833c3d",
   "metadata": {},
   "outputs": [
    {
     "name": "stdout",
     "output_type": "stream",
     "text": [
      "allow\n"
     ]
    }
   ],
   "source": [
    "age = 16;\n",
    "gender = \"female\";\n",
    "if age > 18 or gender != \"male\":\n",
    "    print (\"allow\");\n",
    "else:\n",
    "    print(\"not eligible\");"
   ]
  },
  {
   "cell_type": "code",
   "execution_count": 18,
   "id": "20643cd1",
   "metadata": {},
   "outputs": [
    {
     "name": "stdout",
     "output_type": "stream",
     "text": [
      "not eligible\n"
     ]
    }
   ],
   "source": [
    "age = 16;\n",
    "gender = \"female\";\n",
    "if age < 18 and gender == \"male\":\n",
    "    print (\"allow\");\n",
    "else:\n",
    "    print(\"not eligible\");"
   ]
  },
  {
   "cell_type": "code",
   "execution_count": null,
   "id": "e19e5963",
   "metadata": {},
   "outputs": [],
   "source": []
  }
 ],
 "metadata": {
  "kernelspec": {
   "display_name": "Python 3",
   "language": "python",
   "name": "python3"
  },
  "language_info": {
   "codemirror_mode": {
    "name": "ipython",
    "version": 3
   },
   "file_extension": ".py",
   "mimetype": "text/x-python",
   "name": "python",
   "nbconvert_exporter": "python",
   "pygments_lexer": "ipython3",
   "version": "3.8.8"
  }
 },
 "nbformat": 4,
 "nbformat_minor": 5
}
