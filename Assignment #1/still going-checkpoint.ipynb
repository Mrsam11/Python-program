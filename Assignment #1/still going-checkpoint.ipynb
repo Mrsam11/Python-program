{
 "cells": [
  {
   "cell_type": "code",
   "execution_count": 1,
   "id": "75fcdd6d",
   "metadata": {},
   "outputs": [
    {
     "name": "stdout",
     "output_type": "stream",
     "text": [
      "hello world\n"
     ]
    }
   ],
   "source": [
    "print (\"hello world\");"
   ]
  },
  {
   "cell_type": "code",
   "execution_count": 20,
   "id": "feccd83c",
   "metadata": {},
   "outputs": [
    {
     "name": "stdout",
     "output_type": "stream",
     "text": [
      "c\n"
     ]
    }
   ],
   "source": [
    "a = 20;\n",
    "b = -2;\n",
    "c = a + b;\n",
    "print (\"c\");"
   ]
  },
  {
   "cell_type": "code",
   "execution_count": 22,
   "id": "c11f62fd",
   "metadata": {},
   "outputs": [
    {
     "name": "stdout",
     "output_type": "stream",
     "text": [
      "18\n"
     ]
    }
   ],
   "source": [
    "a = 20;\n",
    "b = -2;\n",
    "c = a + b;\n",
    "print (c);"
   ]
  },
  {
   "cell_type": "code",
   "execution_count": 5,
   "id": "fe81dd82",
   "metadata": {},
   "outputs": [
    {
     "name": "stdout",
     "output_type": "stream",
     "text": [
      "sameer ahmed\n"
     ]
    }
   ],
   "source": [
    "x = \"sameer \";\n",
    "y = \"ahmed\";\n",
    "z = x + y;\n",
    "print (z);"
   ]
  },
  {
   "cell_type": "code",
   "execution_count": 8,
   "id": "04926023",
   "metadata": {},
   "outputs": [
    {
     "name": "stdout",
     "output_type": "stream",
     "text": [
      "52\n"
     ]
    }
   ],
   "source": [
    "s = \"5\";\n",
    "y = \"2\";\n",
    "q = s + y;\n",
    "print (q);"
   ]
  },
  {
   "cell_type": "code",
   "execution_count": 10,
   "id": "bb9d603b",
   "metadata": {},
   "outputs": [
    {
     "name": "stdout",
     "output_type": "stream",
     "text": [
      "19\n"
     ]
    }
   ],
   "source": [
    "x = 7;\n",
    "y = 10 + x;\n",
    "z = x + y - 5;\n",
    "print (z);"
   ]
  },
  {
   "cell_type": "code",
   "execution_count": 12,
   "id": "5cfe6812",
   "metadata": {},
   "outputs": [
    {
     "name": "stdout",
     "output_type": "stream",
     "text": [
      "32.0\n"
     ]
    }
   ],
   "source": [
    "a = 2 - 4 / 2 + 4 * 8;\n",
    "print (a);"
   ]
  },
  {
   "cell_type": "code",
   "execution_count": 13,
   "id": "13a86839",
   "metadata": {},
   "outputs": [
    {
     "name": "stdout",
     "output_type": "stream",
     "text": [
      "-2.6666666666666665\n"
     ]
    }
   ],
   "source": [
    "a = ((2 - 4) / (2 + 4) * 8);\n",
    "print (a);"
   ]
  },
  {
   "cell_type": "code",
   "execution_count": 1,
   "id": "4743706f",
   "metadata": {},
   "outputs": [
    {
     "name": "stdout",
     "output_type": "stream",
     "text": [
      "2\n"
     ]
    }
   ],
   "source": [
    "x = 8;\n",
    "y = x%3;\n",
    "print (y);"
   ]
  },
  {
   "cell_type": "code",
   "execution_count": 2,
   "id": "3f6340d7",
   "metadata": {},
   "outputs": [
    {
     "name": "stdout",
     "output_type": "stream",
     "text": [
      "7\n"
     ]
    }
   ],
   "source": [
    "s = 12;\n",
    "s = 7;\n",
    "print (s);"
   ]
  },
  {
   "cell_type": "code",
   "execution_count": 3,
   "id": "3d0729d4",
   "metadata": {},
   "outputs": [
    {
     "name": "stdout",
     "output_type": "stream",
     "text": [
      "10\n"
     ]
    }
   ],
   "source": [
    " y = 9;\n",
    "y = y + 1;\n",
    "print (y);"
   ]
  },
  {
   "cell_type": "code",
   "execution_count": 4,
   "id": "8a6ab57c",
   "metadata": {},
   "outputs": [
    {
     "name": "stdout",
     "output_type": "stream",
     "text": [
      "9\n"
     ]
    }
   ],
   "source": [
    "a = 2;\n",
    "a+= 7;\n",
    "print (a);"
   ]
  },
  {
   "cell_type": "code",
   "execution_count": 5,
   "id": "9a320966",
   "metadata": {},
   "outputs": [
    {
     "name": "stdout",
     "output_type": "stream",
     "text": [
      "6\n"
     ]
    }
   ],
   "source": [
    "a = 3;\n",
    "a = a+ 3;\n",
    "print(a);"
   ]
  },
  {
   "cell_type": "code",
   "execution_count": 6,
   "id": "3e7d41bb",
   "metadata": {},
   "outputs": [
    {
     "name": "stdout",
     "output_type": "stream",
     "text": [
      "6\n"
     ]
    }
   ],
   "source": [
    "y = 8;\n",
    "y-= 2;\n",
    "print (y);"
   ]
  },
  {
   "cell_type": "code",
   "execution_count": 7,
   "id": "90fb1a46",
   "metadata": {},
   "outputs": [
    {
     "name": "stdout",
     "output_type": "stream",
     "text": [
      "27\n"
     ]
    }
   ],
   "source": [
    "y = 9;\n",
    "y*= 3;\n",
    "print(y);"
   ]
  },
  {
   "cell_type": "code",
   "execution_count": 8,
   "id": "f79031f5",
   "metadata": {},
   "outputs": [
    {
     "name": "stdout",
     "output_type": "stream",
     "text": [
      "1\n"
     ]
    }
   ],
   "source": [
    "y = 10;\n",
    "y%= 3;\n",
    "print(y);\n"
   ]
  },
  {
   "cell_type": "code",
   "execution_count": 10,
   "id": "a05531cb",
   "metadata": {},
   "outputs": [
    {
     "name": "stdout",
     "output_type": "stream",
     "text": [
      "my name is Sameer Ahmed\n"
     ]
    }
   ],
   "source": [
    "a = \"Sameer Ahmed\"\n",
    "print (\"my name is \" + a);"
   ]
  },
  {
   "cell_type": "code",
   "execution_count": 11,
   "id": "3c59e4f0",
   "metadata": {},
   "outputs": [
    {
     "name": "stdout",
     "output_type": "stream",
     "text": [
      "Allow for Ride\n"
     ]
    }
   ],
   "source": [
    "gender = \"male\";\n",
    "if gender == \"male\":\n",
    "    print (\"Allow for Ride\");"
   ]
  },
  {
   "cell_type": "code",
   "execution_count": 12,
   "id": "c5f27d93",
   "metadata": {},
   "outputs": [
    {
     "name": "stdout",
     "output_type": "stream",
     "text": [
      "you are not eligible\n"
     ]
    }
   ],
   "source": [
    "gender = \"female\";\n",
    "if gender == \"male\":\n",
    "    print (\"Allow for Ride\");\n",
    "else:\n",
    "    print (\"you are not eligible\");"
   ]
  },
  {
   "cell_type": "code",
   "execution_count": 13,
   "id": "81980e75",
   "metadata": {},
   "outputs": [
    {
     "name": "stdout",
     "output_type": "stream",
     "text": [
      "Allow for Ride\n"
     ]
    }
   ],
   "source": [
    "gender = \"female\";\n",
    "if gender != \"male\":\n",
    "    print (\"Allow for Ride\");\n",
    "else:\n",
    "    print (\"you are not eligible\");"
   ]
  },
  {
   "cell_type": "code",
   "execution_count": 14,
   "id": "32b8ae62",
   "metadata": {},
   "outputs": [
    {
     "name": "stdout",
     "output_type": "stream",
     "text": [
      "not eligible\n"
     ]
    }
   ],
   "source": [
    "age = 16;\n",
    "gender = \"female\";\n",
    "if age > 18 or gender == \"male\":\n",
    "    print (\"allow\");\n",
    "else:\n",
    "    print(\"not eligible\");"
   ]
  },
  {
   "cell_type": "code",
   "execution_count": 15,
   "id": "4a1eb247",
   "metadata": {},
   "outputs": [
    {
     "name": "stdout",
     "output_type": "stream",
     "text": [
      "allow\n"
     ]
    }
   ],
   "source": [
    "age = 16;\n",
    "gender = \"female\";\n",
    "if age < 18 or gender != \"male\":\n",
    "    print (\"allow\");\n",
    "else:\n",
    "    print(\"not eligible\");"
   ]
  },
  {
   "cell_type": "code",
   "execution_count": 16,
   "id": "4341f388",
   "metadata": {},
   "outputs": [
    {
     "name": "stdout",
     "output_type": "stream",
     "text": [
      "allow\n"
     ]
    }
   ],
   "source": [
    "age = 16;\n",
    "gender = \"female\";\n",
    "if age < 18 or gender == \"male\":\n",
    "    print (\"allow\");\n",
    "else:\n",
    "    print(\"not eligible\");"
   ]
  },
  {
   "cell_type": "code",
   "execution_count": 17,
   "id": "b1a82b33",
   "metadata": {},
   "outputs": [
    {
     "name": "stdout",
     "output_type": "stream",
     "text": [
      "allow\n"
     ]
    }
   ],
   "source": [
    "age = 16;\n",
    "gender = \"female\";\n",
    "if age > 18 or gender != \"male\":\n",
    "    print (\"allow\");\n",
    "else:\n",
    "    print(\"not eligible\");"
   ]
  },
  {
   "cell_type": "code",
   "execution_count": 18,
   "id": "ab2c9136",
   "metadata": {},
   "outputs": [
    {
     "name": "stdout",
     "output_type": "stream",
     "text": [
      "not eligible\n"
     ]
    }
   ],
   "source": [
    "age = 16;\n",
    "gender = \"female\";\n",
    "if age < 18 and gender == \"male\":\n",
    "    print (\"allow\");\n",
    "else:\n",
    "    print(\"not eligible\");"
   ]
  },
  {
   "cell_type": "code",
   "execution_count": 26,
   "id": "e9d25311",
   "metadata": {},
   "outputs": [
    {
     "name": "stdout",
     "output_type": "stream",
     "text": [
      "231\n"
     ]
    }
   ],
   "source": [
    "English = 73;\n",
    "Islamiat = 81;\n",
    "Math = 77;\n",
    "print (English + Islamiat + Math);"
   ]
  },
  {
   "cell_type": "code",
   "execution_count": 35,
   "id": "74269f7d",
   "metadata": {},
   "outputs": [
    {
     "name": "stdout",
     "output_type": "stream",
     "text": [
      "77.0\n"
     ]
    }
   ],
   "source": [
    "Your_Marks = 231;\n",
    "Total_Marks = 300;\n",
    "percentage = Your_Marks/Total_Marks * 100;\n",
    "print (percentage);"
   ]
  },
  {
   "cell_type": "code",
   "execution_count": 1,
   "id": "719cf1b6",
   "metadata": {},
   "outputs": [
    {
     "name": "stdout",
     "output_type": "stream",
     "text": [
      "Grade A\n"
     ]
    }
   ],
   "source": [
    "percentage = 77;\n",
    "if percentage < 100 and percentage > 80:\n",
    "    print (\"Grade A+\");\n",
    "elif percentage < 80 and percentage > 70:\n",
    "    print (\"Grade A\");\n",
    "elif percentage < 70 and percentage > 60:\n",
    "    print (\"Grade B\");\n",
    "elif percentage < 60 and percentage > 50:\n",
    "    print (\"Grade C\");\n",
    "elif percentage < 50 and percentage > 40:\n",
    "    print (\"Grade D\");\n",
    "elif percentage < 40 and percentage > 33:\n",
    "    print (\"Grade E\");\n",
    "elif percentage < 0 and percentage > 100:\n",
    "    print (\"You Didn't enter the correct percentage\");\n",
    "else:\n",
    "    print (\"Fail\");"
   ]
  },
  {
   "cell_type": "code",
   "execution_count": 2,
   "id": "670cd206",
   "metadata": {},
   "outputs": [
    {
     "name": "stdout",
     "output_type": "stream",
     "text": [
      "Select any num22\n"
     ]
    },
    {
     "ename": "TypeError",
     "evalue": "can only concatenate str (not \"int\") to str",
     "output_type": "error",
     "traceback": [
      "\u001b[1;31m---------------------------------------------------------------------------\u001b[0m",
      "\u001b[1;31mTypeError\u001b[0m                                 Traceback (most recent call last)",
      "\u001b[1;32m<ipython-input-2-128131da3ee2>\u001b[0m in \u001b[0;36m<module>\u001b[1;34m\u001b[0m\n\u001b[0;32m      1\u001b[0m \u001b[0mx\u001b[0m \u001b[1;33m=\u001b[0m \u001b[0minput\u001b[0m\u001b[1;33m(\u001b[0m\u001b[1;34m\"Select any num\"\u001b[0m\u001b[1;33m)\u001b[0m\u001b[1;33m;\u001b[0m\u001b[1;33m\u001b[0m\u001b[1;33m\u001b[0m\u001b[0m\n\u001b[0;32m      2\u001b[0m \u001b[0mz\u001b[0m \u001b[1;33m=\u001b[0m \u001b[1;36m28\u001b[0m\u001b[1;33m;\u001b[0m\u001b[1;33m\u001b[0m\u001b[1;33m\u001b[0m\u001b[0m\n\u001b[1;32m----> 3\u001b[1;33m \u001b[0my\u001b[0m \u001b[1;33m=\u001b[0m \u001b[0mx\u001b[0m \u001b[1;33m+\u001b[0m \u001b[0mz\u001b[0m\u001b[1;33m;\u001b[0m\u001b[1;33m\u001b[0m\u001b[1;33m\u001b[0m\u001b[0m\n\u001b[0m\u001b[0;32m      4\u001b[0m \u001b[0mprint\u001b[0m \u001b[1;33m(\u001b[0m\u001b[0my\u001b[0m\u001b[1;33m)\u001b[0m\u001b[1;33m;\u001b[0m\u001b[1;33m\u001b[0m\u001b[1;33m\u001b[0m\u001b[0m\n",
      "\u001b[1;31mTypeError\u001b[0m: can only concatenate str (not \"int\") to str"
     ]
    }
   ],
   "source": [
    "x = input(\"Select any num\");\n",
    "z = 28;\n",
    "y = x + z;\n",
    "print (y);"
   ]
  },
  {
   "cell_type": "code",
   "execution_count": 3,
   "id": "7fa840e7",
   "metadata": {},
   "outputs": [
    {
     "name": "stdout",
     "output_type": "stream",
     "text": [
      "Select any num22\n",
      "50\n"
     ]
    }
   ],
   "source": [
    "x = int(input(\"Select any num\"));\n",
    "z = 28;\n",
    "y = x + z;\n",
    "print (y);"
   ]
  },
  {
   "cell_type": "code",
   "execution_count": 4,
   "id": "d4f67fa3",
   "metadata": {},
   "outputs": [
    {
     "name": "stdout",
     "output_type": "stream",
     "text": [
      "Select any num32\n",
      "60\n"
     ]
    }
   ],
   "source": [
    "x = input(\"Select any num\");\n",
    "z = 28;\n",
    "y = int(x) + z;\n",
    "print (y);"
   ]
  },
  {
   "cell_type": "code",
   "execution_count": 5,
   "id": "472a5056",
   "metadata": {},
   "outputs": [
    {
     "name": "stdout",
     "output_type": "stream",
     "text": [
      "27\n"
     ]
    }
   ],
   "source": [
    "x = 3**3;\n",
    "print (x);"
   ]
  },
  {
   "cell_type": "code",
   "execution_count": 6,
   "id": "fd68c091",
   "metadata": {},
   "outputs": [
    {
     "name": "stdout",
     "output_type": "stream",
     "text": [
      "Hello\n",
      "World\n"
     ]
    }
   ],
   "source": [
    "print (\"Hello\\nWorld\");"
   ]
  },
  {
   "cell_type": "code",
   "execution_count": 7,
   "id": "636a71ba",
   "metadata": {},
   "outputs": [
    {
     "name": "stdout",
     "output_type": "stream",
     "text": [
      "False\n"
     ]
    }
   ],
   "source": [
    "x = 99;\n",
    "y = 2;\n",
    "a = 20;\n",
    "b = -222;\n",
    "if x*y == a+b:\n",
    "    print (\"true\");\n",
    "else:\n",
    "    print(\"False\");"
   ]
  },
  {
   "cell_type": "code",
   "execution_count": 8,
   "id": "d640e224",
   "metadata": {},
   "outputs": [
    {
     "name": "stdout",
     "output_type": "stream",
     "text": [
      "Your Age18\n",
      "Your gendermale\n",
      "DOnT Allow\n"
     ]
    }
   ],
   "source": [
    "age =int(input(\"Your Age\"));\n",
    "gender = input (\"Your gender\");\n",
    "if age > 18 and gender == \"male\":\n",
    "    print (\"Allow\");\n",
    "else:\n",
    "    print(\"DOnT Allow\");"
   ]
  },
  {
   "cell_type": "code",
   "execution_count": 9,
   "id": "4b994405",
   "metadata": {},
   "outputs": [
    {
     "name": "stdout",
     "output_type": "stream",
     "text": [
      "Your Age18\n",
      "Your gendermale\n",
      "Allow\n"
     ]
    }
   ],
   "source": [
    "age =int(input(\"Your Age\"));\n",
    "gender = input (\"Your gender\");\n",
    "if age >= 18 and gender == \"male\":\n",
    "    print (\"Allow\");\n",
    "else:\n",
    "    print(\"DOnT Allow\");"
   ]
  },
  {
   "cell_type": "code",
   "execution_count": 1,
   "id": "ea2a00ea",
   "metadata": {},
   "outputs": [
    {
     "name": "stdout",
     "output_type": "stream",
     "text": [
      "[1.2]\n"
     ]
    }
   ],
   "source": [
    "# learn to code\n",
    "ant = [1.2];\n",
    "print (ant)"
   ]
  },
  {
   "cell_type": "code",
   "execution_count": 2,
   "id": "b023c107",
   "metadata": {},
   "outputs": [
    {
     "name": "stdout",
     "output_type": "stream",
     "text": [
      "1.2\n"
     ]
    }
   ],
   "source": [
    "# learn to code\n",
    "ant = (1.2);\n",
    "print (ant)"
   ]
  },
  {
   "cell_type": "code",
   "execution_count": 4,
   "id": "d1486d76",
   "metadata": {},
   "outputs": [
    {
     "name": "stdout",
     "output_type": "stream",
     "text": [
      "hello\n",
      "World\n"
     ]
    }
   ],
   "source": [
    "\"\"\"We are learning python\n",
    "to make portfolio\"\"\"\n",
    "print (\"hello\\nWorld\");"
   ]
  },
  {
   "cell_type": "code",
   "execution_count": 5,
   "id": "0c438c4c",
   "metadata": {},
   "outputs": [
    {
     "name": "stdout",
     "output_type": "stream",
     "text": [
      "73 81 77\n"
     ]
    }
   ],
   "source": [
    "English = 73;\n",
    "Islamiat = 81;\n",
    "Math = 77;\n",
    "print (English, + Islamiat, + Math,);"
   ]
  },
  {
   "cell_type": "code",
   "execution_count": 14,
   "id": "138e7c31",
   "metadata": {},
   "outputs": [
    {
     "name": "stdout",
     "output_type": "stream",
     "text": [
      "ant,CAT,DOG\n"
     ]
    }
   ],
   "source": [
    "English = \"ant\";\n",
    "Islamiat = \"CAT\";\n",
    "Math = \"DOG\";\n",
    "print (English+\",\"+Islamiat+\",\"+Math);"
   ]
  },
  {
   "cell_type": "code",
   "execution_count": 16,
   "id": "a242d4cd",
   "metadata": {},
   "outputs": [
    {
     "name": "stdout",
     "output_type": "stream",
     "text": [
      "['Sameer', 'Fari', 'AHMED', 'KHAN', 'SHan']\n"
     ]
    }
   ],
   "source": [
    "# List\n",
    "name = [\"Sameer\",\"Fari\",\"AHMED\",\"KHAN\",\"SHan\"];\n",
    "print (name)"
   ]
  },
  {
   "cell_type": "code",
   "execution_count": 17,
   "id": "06eed705",
   "metadata": {},
   "outputs": [
    {
     "name": "stdout",
     "output_type": "stream",
     "text": [
      "KHAN\n"
     ]
    }
   ],
   "source": [
    "print (name[3]);"
   ]
  },
  {
   "cell_type": "code",
   "execution_count": 19,
   "id": "45ade905",
   "metadata": {},
   "outputs": [
    {
     "name": "stdout",
     "output_type": "stream",
     "text": [
      "['Sameer', 'friyal', 'AHMED', 'KHAN', 'SHan']\n"
     ]
    }
   ],
   "source": [
    "name[1] =\"friyal\";\n",
    "print(name);"
   ]
  },
  {
   "cell_type": "code",
   "execution_count": 23,
   "id": "57b2f385",
   "metadata": {},
   "outputs": [
    {
     "name": "stdout",
     "output_type": "stream",
     "text": [
      "['Sameer', 'friyal', 'AHMED', 'KHAN', 'SHan', 'Shahruk']\n"
     ]
    }
   ],
   "source": [
    "name.append(\"Shahruk\");\n",
    "print(name);"
   ]
  },
  {
   "cell_type": "code",
   "execution_count": 24,
   "id": "89a16627",
   "metadata": {},
   "outputs": [
    {
     "name": "stdout",
     "output_type": "stream",
     "text": [
      "['Sameer', 'friyal', 'AHMED', 'KHAN', 'SHan', 'Shahruk', 'murtaza']\n"
     ]
    }
   ],
   "source": [
    "name.append(\"murtaza\");\n",
    "print(name);"
   ]
  },
  {
   "cell_type": "code",
   "execution_count": 1,
   "id": "e64408d7",
   "metadata": {},
   "outputs": [
    {
     "name": "stdout",
     "output_type": "stream",
     "text": [
      "Hello World\n"
     ]
    }
   ],
   "source": [
    "x=(\"Hello World\");\n",
    "print(x);"
   ]
  },
  {
   "cell_type": "code",
   "execution_count": 2,
   "id": "add13954",
   "metadata": {},
   "outputs": [
    {
     "name": "stdout",
     "output_type": "stream",
     "text": [
      "Enter wordHello World\n",
      "Hello World\n"
     ]
    }
   ],
   "source": [
    "x=input(\"Enter word\");\n",
    "print(x);"
   ]
  },
  {
   "cell_type": "code",
   "execution_count": 3,
   "id": "cb67c895",
   "metadata": {},
   "outputs": [
    {
     "name": "stdout",
     "output_type": "stream",
     "text": [
      "Enter wordHello World\n",
      "Hello World\n"
     ]
    }
   ],
   "source": [
    "x=input(\"Enter word\");\n",
    "print(x);"
   ]
  },
  {
   "cell_type": "code",
   "execution_count": 4,
   "id": "f946586c",
   "metadata": {},
   "outputs": [
    {
     "ename": "SyntaxError",
     "evalue": "invalid syntax (<ipython-input-4-d7f9b2db264e>, line 1)",
     "output_type": "error",
     "traceback": [
      "\u001b[1;36m  File \u001b[1;32m\"<ipython-input-4-d7f9b2db264e>\"\u001b[1;36m, line \u001b[1;32m1\u001b[0m\n\u001b[1;33m    h = (Hello World)\u001b[0m\n\u001b[1;37m               ^\u001b[0m\n\u001b[1;31mSyntaxError\u001b[0m\u001b[1;31m:\u001b[0m invalid syntax\n"
     ]
    }
   ],
   "source": [
    "h = (Hello World)\n",
    "print = (h);"
   ]
  },
  {
   "cell_type": "code",
   "execution_count": null,
   "id": "6d0c8173",
   "metadata": {},
   "outputs": [],
   "source": []
  }
 ],
 "metadata": {
  "kernelspec": {
   "display_name": "Python 3",
   "language": "python",
   "name": "python3"
  },
  "language_info": {
   "codemirror_mode": {
    "name": "ipython",
    "version": 3
   },
   "file_extension": ".ipynb",
   "mimetype": "text/x-python",
   "name": "python",
   "nbconvert_exporter": "python",
   "pygments_lexer": "ipython3",
   "version": "3.8.8"
  }
 },
 "nbformat": 4,
 "nbformat_minor": 5
}
