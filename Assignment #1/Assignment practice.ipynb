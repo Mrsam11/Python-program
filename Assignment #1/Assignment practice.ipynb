{
 "cells": [
  {
   "cell_type": "code",
   "execution_count": 1,
   "id": "fe532f5c",
   "metadata": {},
   "outputs": [
    {
     "name": "stdout",
     "output_type": "stream",
     "text": [
      "Enter your first name Sameer\n",
      "Enter your last name Ahmed\n",
      "reemaS demhA\n"
     ]
    }
   ],
   "source": [
    "#Question_05\n",
    "'''Python program which accept first and last name\n",
    "and print them in reverse order'''\n",
    "f_name=input(\"Enter your first name \");\n",
    "l_name=input(\"Enter your last name \");\n",
    "print(f_name[::-1]+' '+l_name[::-1])"
   ]
  },
  {
   "cell_type": "code",
   "execution_count": 3,
   "id": "b96c2176",
   "metadata": {},
   "outputs": [
    {
     "name": "stdout",
     "output_type": "stream",
     "text": [
      "Enter your first name Sameer\n",
      "Enter your last name Ahmed\n",
      "reemaS demhA\n",
      "Ahmed Sameer\n"
     ]
    }
   ],
   "source": [
    "#Question_05\n",
    "'''Python program which accept first and last name\n",
    "and print them in reverse order'''\n",
    "f_name=input(\"Enter your first name \");\n",
    "l_name=input(\"Enter your last name \");\n",
    "print(f_name[::-1]+' '+l_name[::-1]) \n",
    "#Or\n",
    "print(l_name+\" \"+f_name)"
   ]
  },
  {
   "cell_type": "code",
   "execution_count": 7,
   "id": "e6bdb471",
   "metadata": {},
   "outputs": [
    {
     "name": "stdout",
     "output_type": "stream",
     "text": [
      "Marks Obtain in English : 50\n",
      "Marks Obtain in Urdu : 50\n",
      "Marks Obtain in Isl : 50\n",
      "Marks Obtain in Math : 50\n",
      "Marks Obtain in Physic : 50\n",
      "Your Percentage is  50.0\n"
     ]
    }
   ],
   "source": [
    "#Question_07\n",
    "\"\"\"Python program which takes 5 inputs from user for different subject’s marks, total it\n",
    "and generate mark sheet using grades\"\"\"\n",
    "Eng = int(input(\"Marks Obtain in English : \"));\n",
    "Urdu = int(input(\"Marks Obtain in Urdu : \"));\n",
    "Isl = int(input(\"Marks Obtain in Isl : \"));\n",
    "Math = int(input(\"Marks Obtain in Math : \"));\n",
    "Physic = int(input(\"Marks Obtain in Physic : \"));\n",
    "Marks = Eng + Urdu + Isl + Math + Physic\n",
    "Total_marks = 500\n",
    "Percentage = Marks/Total_marks * 100\n",
    "print(\"Your Percentage is \", Percentage)"
   ]
  },
  {
   "cell_type": "code",
   "execution_count": 8,
   "id": "5d258f31",
   "metadata": {},
   "outputs": [
    {
     "name": "stdout",
     "output_type": "stream",
     "text": [
      "78.53981633974483\n"
     ]
    }
   ],
   "source": [
    "from math import pi\n",
    "r = 5\n",
    "area = pi *r *r \n",
    "print(area)"
   ]
  },
  {
   "cell_type": "code",
   "execution_count": 16,
   "id": "19ca6126",
   "metadata": {},
   "outputs": [
    {
     "name": "stdout",
     "output_type": "stream",
     "text": [
      "5\n",
      "The List is : ['shan', 'Umer', 'uzari', 'khizma', 1]\n",
      "1\n",
      "2\n",
      "3\n",
      "4\n",
      "5\n"
     ]
    }
   ],
   "source": [
    "# length of list using len()\n",
    "list = [\"shan\",\"Umer\",\"uzari\",\"khizma\",1]\n",
    "print(len(list))\n",
    "#length of list using naive method\n",
    "print(\"The List is : \" + str(list));\n",
    "#counter meaning list element starting from zero\n",
    "counter = 0\n",
    "#for item is list\n",
    "for i in list: \n",
    "    counter = counter + 1\n",
    "    print(str(counter))\n"
   ]
  },
  {
   "cell_type": "code",
   "execution_count": 21,
   "id": "2da47fc0",
   "metadata": {},
   "outputs": [
    {
     "name": "stdout",
     "output_type": "stream",
     "text": [
      "The list is : ['Hello', 'Edureka', 1, 2, 3]\n",
      "Length of list using naive method is : 1\n",
      "Length of list using naive method is : 2\n",
      "Length of list using naive method is : 3\n",
      "Length of list using naive method is : 4\n",
      "Length of list using naive method is : 5\n"
     ]
    }
   ],
   "source": [
    "ListName = [ \"Hello\", \"Edureka\", 1,2,3 ]\n",
    "print (\"The list is : \" + str(ListName))\n",
    "counter = 0\n",
    "for i in ListName:\n",
    "    counter = counter + 1\n",
    "    print (\"Length of list using naive method is : \" + str(counter))"
   ]
  },
  {
   "cell_type": "code",
   "execution_count": 24,
   "id": "d40e38be",
   "metadata": {},
   "outputs": [
    {
     "name": "stdout",
     "output_type": "stream",
     "text": [
      "The list is [1, 6, 3, 9, 10, 15]\n",
      "The sum of list is 44\n"
     ]
    }
   ],
   "source": [
    "#Question_10\n",
    "#Write a Python program to sum all the numeric items in a list\n",
    "list1 = [1,6,3,9,10,15]\n",
    "#def sum()\n",
    "total = sum(list1)\n",
    "print(\"The list is \" + str(list1));\n",
    "print(\"The sum of list is \" + str(total))"
   ]
  },
  {
   "cell_type": "code",
   "execution_count": 1,
   "id": "e3782d26",
   "metadata": {},
   "outputs": [
    {
     "name": "stdout",
     "output_type": "stream",
     "text": [
      "Select a number: \n",
      "5\n",
      "[1, 1, 2, 3]\n"
     ]
    }
   ],
   "source": [
    "a = [1, 1, 2, 3, 5, 8, 13, 21, 34, 55, 89]\n",
    "b = []\n",
    "user_input = int(input('Select a number: \\n'))\n",
    "[b.append(i) for i in a if i < user_input]\n",
    "print(b)"
   ]
  },
  {
   "cell_type": "code",
   "execution_count": 2,
   "id": "63b86b22",
   "metadata": {},
   "outputs": [
    {
     "name": "stdout",
     "output_type": "stream",
     "text": [
      "[1, 1, 2, 3]\n"
     ]
    }
   ],
   "source": [
    "#Write this in one line of Python. \n",
    "a = [1, 1, 2, 3, 5, 8, 13, 21, 34, 55, 89]\n",
    "b = []\n",
    "[b.append(i) for i in a if i < 5]\n",
    "print(b)"
   ]
  },
  {
   "cell_type": "code",
   "execution_count": 3,
   "id": "3cc7ea9b",
   "metadata": {},
   "outputs": [
    {
     "name": "stdout",
     "output_type": "stream",
     "text": [
      "[1, 1, 2, 3]\n"
     ]
    }
   ],
   "source": [
    "#Instead of printing the elements one by one, make a new list that has all the elements less than 5 from\n",
    "#this list in it and print out this new list.\n",
    "a = [1, 1, 2, 3, 5, 8, 13, 21, 34, 55, 89]\n",
    "b = []\n",
    "for i in a:\n",
    "    if i < 5:\n",
    "        b.append(i)\n",
    "print(b)"
   ]
  },
  {
   "cell_type": "code",
   "execution_count": 4,
   "id": "18354de2",
   "metadata": {},
   "outputs": [
    {
     "name": "stdout",
     "output_type": "stream",
     "text": [
      "1\n",
      "1\n",
      "2\n",
      "3\n"
     ]
    }
   ],
   "source": [
    "#Take a list, say for example this one: a = [1, 1, 2, 3, 5, 8, 13, 21, 34, 55, 89]\n",
    "#and write a program that prints out all the elements of the list that are less than 5.\n",
    "a = [1, 1, 2, 3, 5, 8, 13, 21, 34, 55, 89]\n",
    "for i in a:\n",
    "    if i < 5:\n",
    "        print(i)"
   ]
  },
  {
   "cell_type": "code",
   "execution_count": 5,
   "id": "d54b6210",
   "metadata": {},
   "outputs": [
    {
     "name": "stdout",
     "output_type": "stream",
     "text": [
      "Select a number: \n",
      "6\n",
      "[1, 1, 2, 3, 5]\n"
     ]
    }
   ],
   "source": [
    "#Ask the user for a number and return a list that contains only elements from \n",
    "#the original list a that are smaller than that number given by the user.\n",
    "a = [1, 1, 2, 3, 5, 8, 13, 21, 34, 55, 89]\n",
    "b = []\n",
    "user_input = int(input('Select a number: \\n'))\n",
    "[b.append(i) for i in a if i < user_input]\n",
    "print(b)"
   ]
  },
  {
   "cell_type": "code",
   "execution_count": null,
   "id": "f8082fec",
   "metadata": {},
   "outputs": [],
   "source": []
  }
 ],
 "metadata": {
  "kernelspec": {
   "display_name": "Python 3",
   "language": "python",
   "name": "python3"
  },
  "language_info": {
   "codemirror_mode": {
    "name": "ipython",
    "version": 3
   },
   "file_extension": ".py",
   "mimetype": "text/x-python",
   "name": "python",
   "nbconvert_exporter": "python",
   "pygments_lexer": "ipython3",
   "version": "3.8.8"
  }
 },
 "nbformat": 4,
 "nbformat_minor": 5
}
