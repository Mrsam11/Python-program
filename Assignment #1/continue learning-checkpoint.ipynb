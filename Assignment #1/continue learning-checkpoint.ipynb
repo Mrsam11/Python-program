{
 "cells": [
  {
   "cell_type": "code",
   "execution_count": 1,
   "id": "75fcdd6d",
   "metadata": {},
   "outputs": [
    {
     "name": "stdout",
     "output_type": "stream",
     "text": [
      "hello world\n"
     ]
    }
   ],
   "source": [
    "print (\"hello world\");"
   ]
  },
  {
   "cell_type": "code",
   "execution_count": 20,
   "id": "feccd83c",
   "metadata": {},
   "outputs": [
    {
     "name": "stdout",
     "output_type": "stream",
     "text": [
      "c\n"
     ]
    }
   ],
   "source": [
    "a = 20;\n",
    "b = -2;\n",
    "c = a + b;\n",
    "print (\"c\");"
   ]
  },
  {
   "cell_type": "code",
   "execution_count": 22,
   "id": "c11f62fd",
   "metadata": {},
   "outputs": [
    {
     "name": "stdout",
     "output_type": "stream",
     "text": [
      "18\n"
     ]
    }
   ],
   "source": [
    "a = 20;\n",
    "b = -2;\n",
    "c = a + b;\n",
    "print (c);"
   ]
  },
  {
   "cell_type": "code",
   "execution_count": 5,
   "id": "fe81dd82",
   "metadata": {},
   "outputs": [
    {
     "name": "stdout",
     "output_type": "stream",
     "text": [
      "sameer ahmed\n"
     ]
    }
   ],
   "source": [
    "x = \"sameer \";\n",
    "y = \"ahmed\";\n",
    "z = x + y;\n",
    "print (z);"
   ]
  },
  {
   "cell_type": "code",
   "execution_count": 8,
   "id": "04926023",
   "metadata": {},
   "outputs": [
    {
     "name": "stdout",
     "output_type": "stream",
     "text": [
      "52\n"
     ]
    }
   ],
   "source": [
    "s = \"5\";\n",
    "y = \"2\";\n",
    "q = s + y;\n",
    "print (q);"
   ]
  },
  {
   "cell_type": "code",
   "execution_count": 10,
   "id": "bb9d603b",
   "metadata": {},
   "outputs": [
    {
     "name": "stdout",
     "output_type": "stream",
     "text": [
      "19\n"
     ]
    }
   ],
   "source": [
    "x = 7;\n",
    "y = 10 + x;\n",
    "z = x + y - 5;\n",
    "print (z);"
   ]
  },
  {
   "cell_type": "code",
   "execution_count": 12,
   "id": "5cfe6812",
   "metadata": {},
   "outputs": [
    {
     "name": "stdout",
     "output_type": "stream",
     "text": [
      "32.0\n"
     ]
    }
   ],
   "source": [
    "a = 2 - 4 / 2 + 4 * 8;\n",
    "print (a);"
   ]
  },
  {
   "cell_type": "code",
   "execution_count": 13,
   "id": "13a86839",
   "metadata": {},
   "outputs": [
    {
     "name": "stdout",
     "output_type": "stream",
     "text": [
      "-2.6666666666666665\n"
     ]
    }
   ],
   "source": [
    "a = ((2 - 4) / (2 + 4) * 8);\n",
    "print (a);"
   ]
  },
  {
   "cell_type": "code",
   "execution_count": 1,
   "id": "4743706f",
   "metadata": {},
   "outputs": [
    {
     "name": "stdout",
     "output_type": "stream",
     "text": [
      "2\n"
     ]
    }
   ],
   "source": [
    "x = 8;\n",
    "y = x%3;\n",
    "print (y);"
   ]
  },
  {
   "cell_type": "code",
   "execution_count": 2,
   "id": "3f6340d7",
   "metadata": {},
   "outputs": [
    {
     "name": "stdout",
     "output_type": "stream",
     "text": [
      "7\n"
     ]
    }
   ],
   "source": [
    "s = 12;\n",
    "s = 7;\n",
    "print (s);"
   ]
  },
  {
   "cell_type": "code",
   "execution_count": 3,
   "id": "3d0729d4",
   "metadata": {},
   "outputs": [
    {
     "name": "stdout",
     "output_type": "stream",
     "text": [
      "10\n"
     ]
    }
   ],
   "source": [
    " y = 9;\n",
    "y = y + 1;\n",
    "print (y);"
   ]
  },
  {
   "cell_type": "code",
   "execution_count": 4,
   "id": "8a6ab57c",
   "metadata": {},
   "outputs": [
    {
     "name": "stdout",
     "output_type": "stream",
     "text": [
      "9\n"
     ]
    }
   ],
   "source": [
    "a = 2;\n",
    "a+= 7;\n",
    "print (a);"
   ]
  },
  {
   "cell_type": "code",
   "execution_count": 5,
   "id": "9a320966",
   "metadata": {},
   "outputs": [
    {
     "name": "stdout",
     "output_type": "stream",
     "text": [
      "6\n"
     ]
    }
   ],
   "source": [
    "a = 3;\n",
    "a = a+ 3;\n",
    "print(a);"
   ]
  },
  {
   "cell_type": "code",
   "execution_count": 6,
   "id": "3e7d41bb",
   "metadata": {},
   "outputs": [
    {
     "name": "stdout",
     "output_type": "stream",
     "text": [
      "6\n"
     ]
    }
   ],
   "source": [
    "y = 8;\n",
    "y-= 2;\n",
    "print (y);"
   ]
  },
  {
   "cell_type": "code",
   "execution_count": 7,
   "id": "90fb1a46",
   "metadata": {},
   "outputs": [
    {
     "name": "stdout",
     "output_type": "stream",
     "text": [
      "27\n"
     ]
    }
   ],
   "source": [
    "y = 9;\n",
    "y*= 3;\n",
    "print(y);"
   ]
  },
  {
   "cell_type": "code",
   "execution_count": 8,
   "id": "f79031f5",
   "metadata": {},
   "outputs": [
    {
     "name": "stdout",
     "output_type": "stream",
     "text": [
      "1\n"
     ]
    }
   ],
   "source": [
    "y = 10;\n",
    "y%= 3;\n",
    "print(y);\n"
   ]
  },
  {
   "cell_type": "code",
   "execution_count": 10,
   "id": "a05531cb",
   "metadata": {},
   "outputs": [
    {
     "name": "stdout",
     "output_type": "stream",
     "text": [
      "my name is Sameer Ahmed\n"
     ]
    }
   ],
   "source": [
    "a = \"Sameer Ahmed\"\n",
    "print (\"my name is \" + a);"
   ]
  },
  {
   "cell_type": "code",
   "execution_count": 11,
   "id": "3c59e4f0",
   "metadata": {},
   "outputs": [
    {
     "name": "stdout",
     "output_type": "stream",
     "text": [
      "Allow for Ride\n"
     ]
    }
   ],
   "source": [
    "gender = \"male\";\n",
    "if gender == \"male\":\n",
    "    print (\"Allow for Ride\");"
   ]
  },
  {
   "cell_type": "code",
   "execution_count": 12,
   "id": "c5f27d93",
   "metadata": {},
   "outputs": [
    {
     "name": "stdout",
     "output_type": "stream",
     "text": [
      "you are not eligible\n"
     ]
    }
   ],
   "source": [
    "gender = \"female\";\n",
    "if gender == \"male\":\n",
    "    print (\"Allow for Ride\");\n",
    "else:\n",
    "    print (\"you are not eligible\");"
   ]
  },
  {
   "cell_type": "code",
   "execution_count": 13,
   "id": "81980e75",
   "metadata": {},
   "outputs": [
    {
     "name": "stdout",
     "output_type": "stream",
     "text": [
      "Allow for Ride\n"
     ]
    }
   ],
   "source": [
    "gender = \"female\";\n",
    "if gender != \"male\":\n",
    "    print (\"Allow for Ride\");\n",
    "else:\n",
    "    print (\"you are not eligible\");"
   ]
  },
  {
   "cell_type": "code",
   "execution_count": 14,
   "id": "32b8ae62",
   "metadata": {},
   "outputs": [
    {
     "name": "stdout",
     "output_type": "stream",
     "text": [
      "not eligible\n"
     ]
    }
   ],
   "source": [
    "age = 16;\n",
    "gender = \"female\";\n",
    "if age > 18 or gender == \"male\":\n",
    "    print (\"allow\");\n",
    "else:\n",
    "    print(\"not eligible\");"
   ]
  },
  {
   "cell_type": "code",
   "execution_count": 15,
   "id": "4a1eb247",
   "metadata": {},
   "outputs": [
    {
     "name": "stdout",
     "output_type": "stream",
     "text": [
      "allow\n"
     ]
    }
   ],
   "source": [
    "age = 16;\n",
    "gender = \"female\";\n",
    "if age < 18 or gender != \"male\":\n",
    "    print (\"allow\");\n",
    "else:\n",
    "    print(\"not eligible\");"
   ]
  },
  {
   "cell_type": "code",
   "execution_count": 16,
   "id": "4341f388",
   "metadata": {},
   "outputs": [
    {
     "name": "stdout",
     "output_type": "stream",
     "text": [
      "allow\n"
     ]
    }
   ],
   "source": [
    "age = 16;\n",
    "gender = \"female\";\n",
    "if age < 18 or gender == \"male\":\n",
    "    print (\"allow\");\n",
    "else:\n",
    "    print(\"not eligible\");"
   ]
  },
  {
   "cell_type": "code",
   "execution_count": 17,
   "id": "b1a82b33",
   "metadata": {},
   "outputs": [
    {
     "name": "stdout",
     "output_type": "stream",
     "text": [
      "allow\n"
     ]
    }
   ],
   "source": [
    "age = 16;\n",
    "gender = \"female\";\n",
    "if age > 18 or gender != \"male\":\n",
    "    print (\"allow\");\n",
    "else:\n",
    "    print(\"not eligible\");"
   ]
  },
  {
   "cell_type": "code",
   "execution_count": 18,
   "id": "ab2c9136",
   "metadata": {},
   "outputs": [
    {
     "name": "stdout",
     "output_type": "stream",
     "text": [
      "not eligible\n"
     ]
    }
   ],
   "source": [
    "age = 16;\n",
    "gender = \"female\";\n",
    "if age < 18 and gender == \"male\":\n",
    "    print (\"allow\");\n",
    "else:\n",
    "    print(\"not eligible\");"
   ]
  },
  {
   "cell_type": "code",
   "execution_count": 26,
   "id": "e9d25311",
   "metadata": {},
   "outputs": [
    {
     "name": "stdout",
     "output_type": "stream",
     "text": [
      "231\n"
     ]
    }
   ],
   "source": [
    "English = 73;\n",
    "Islamiat = 81;\n",
    "Math = 77;\n",
    "print (English + Islamiat + Math);"
   ]
  },
  {
   "cell_type": "code",
   "execution_count": 35,
   "id": "74269f7d",
   "metadata": {},
   "outputs": [
    {
     "name": "stdout",
     "output_type": "stream",
     "text": [
      "77.0\n"
     ]
    }
   ],
   "source": [
    "Your_Marks = 231;\n",
    "Total_Marks = 300;\n",
    "percentage = Your_Marks/Total_Marks * 100;\n",
    "print (percentage);"
   ]
  },
  {
   "cell_type": "code",
   "execution_count": 37,
   "id": "719cf1b6",
   "metadata": {},
   "outputs": [
    {
     "name": "stdout",
     "output_type": "stream",
     "text": [
      "Grade A\n"
     ]
    }
   ],
   "source": [
    "percentage = 77;\n",
    "if percentage < 100 and percentage > 80:\n",
    "    print (\"Grade A+\");\n",
    "elif percentage < 80 and percentage > 70:\n",
    "    print (\"Grade A\");\n",
    "elif percentage < 70 and percentage > 60:\n",
    "    print (\"Grade B\");\n",
    "elif percentage < 60 and percentage > 50:\n",
    "    print (\"Grade C\");\n",
    "elif percentage < 50 and percentage > 40:\n",
    "    print (\"Grade D\");\n",
    "elif percentage < 40 and percentage > 33:\n",
    "    print (\"Grade E\");\n",
    "else:\n",
    "    print (\"Fail\");"
   ]
  },
  {
   "cell_type": "code",
   "execution_count": null,
   "id": "670cd206",
   "metadata": {},
   "outputs": [],
   "source": []
  }
 ],
 "metadata": {
  "kernelspec": {
   "display_name": "Python 3",
   "language": "python",
   "name": "python3"
  },
  "language_info": {
   "codemirror_mode": {
    "name": "ipython",
    "version": 3
   },
   "file_extension": ".py",
   "mimetype": "text/x-python",
   "name": "python",
   "nbconvert_exporter": "python",
   "pygments_lexer": "ipython3",
   "version": "3.8.8"
  }
 },
 "nbformat": 4,
 "nbformat_minor": 5
}
