{
 "cells": [
  {
   "cell_type": "code",
   "execution_count": 2,
   "id": "1243a64f",
   "metadata": {},
   "outputs": [
    {
     "name": "stdout",
     "output_type": "stream",
     "text": [
      "1. Power\n",
      "2. Addition\n",
      "3. Substraction\n",
      "4. Multiplication\n",
      "5. Division\n",
      "Please Select Any Operation from 1 to 5 : 1\n",
      "Enter Number Whose Power You want To calculate : 2\n",
      "Enter Exponent Value : 4\n",
      "16\n"
     ]
    }
   ],
   "source": [
    "# Make a calculator using Python with addition , subtraction ,\n",
    "# multiplication ,division and power.\n",
    "def add(a,b):\n",
    "    return a+b\n",
    "def sub(a,b):\n",
    "    return a-b\n",
    "def mut(a,b):\n",
    "    return a*b\n",
    "def div(a,b):\n",
    "    return a/b\n",
    "def power(a,b):\n",
    "    return(a**b)\n",
    "print ('1. Power\\n2. Addition\\n3. Substraction\\n4. Multiplication\\n5. Division')\n",
    "inp = input('Please Select Any Operation from 1 to 5 : ')\n",
    "if inp == '1':\n",
    "    a = int(input('Enter Number Whose Power You want To calculate : '))\n",
    "    b = int(input('Enter Exponent Value : '))\n",
    "    print(power(a,b))\n",
    "elif inp =='2':\n",
    "    a = int(input(\"Enter First Number : \"))\n",
    "    b = int(input(\"Enter Second Number : \"))\n",
    "    print(add(a,b))\n",
    "elif inp =='3':\n",
    "    a = int(input(\"Enter First Number : \"))\n",
    "    b = int(input(\"Enter Second Number : \"))\n",
    "    print(sub(a,b))\n",
    "elif inp=='4':\n",
    "    a = int(input(\"Enter First Number : \"))\n",
    "    b = int(input(\"Enter Second Number : \"))\n",
    "    print(mut(a,b))\n",
    "elif inp=='5':\n",
    "    a = int(input(\"Enter First Number : \"))\n",
    "    b = int(input(\"Enter Second Number : \"))\n",
    "    print(div(a,b))\n",
    "else:\n",
    "    print(\"Enter number from 1 to 5 to perform any operation\")"
   ]
  },
  {
   "cell_type": "code",
   "execution_count": 11,
   "id": "3ec9ac9a",
   "metadata": {},
   "outputs": [
    {
     "name": "stdout",
     "output_type": "stream",
     "text": [
      "Yes There is numeric value in list\n",
      "1\n",
      "Yes There is numeric value in list\n",
      "2\n",
      "Yes There is numeric value in list\n",
      "3\n"
     ]
    }
   ],
   "source": [
    "#Write a program to check if there is any numeric value in list using for loop\n",
    "lst = ['Sameer', 'Hello','1','World', '2', '3' ,'python']\n",
    "for i in lst:\n",
    "    if (i >= '0' and i<='9'):\n",
    "        print('Yes There is numeric value in list')\n",
    "        print(i)\n",
    "    "
   ]
  },
  {
   "cell_type": "code",
   "execution_count": 12,
   "id": "71bfa922",
   "metadata": {},
   "outputs": [
    {
     "name": "stdout",
     "output_type": "stream",
     "text": [
      "Enter KEy for Dictionary : hello\n",
      "Enter its Value : world\n",
      "{'hello': 'world'}\n"
     ]
    }
   ],
   "source": [
    "#Write a Python script to add a key to a dictionary\n",
    "dic = {}\n",
    "key =input('Enter KEy for Dictionary : ')\n",
    "value=input('Enter its Value : ')\n",
    "dic[key]=value\n",
    "print(dic)\n"
   ]
  },
  {
   "cell_type": "code",
   "execution_count": 1,
   "id": "3e872650",
   "metadata": {},
   "outputs": [
    {
     "name": "stdout",
     "output_type": "stream",
     "text": [
      "25\n"
     ]
    }
   ],
   "source": [
    "#Write a Python program to sum all the numeric items in a dictionary.\n",
    "dic = {'a': 1 , 'b':2 , 'c':4 , 'd':3 , 'e' : 6, 'f': 9}\n",
    "dic1 = dic.values()\n",
    "sm= 0\n",
    "for i in dic1:\n",
    "    sm += i\n",
    "print(sm)"
   ]
  },
  {
   "cell_type": "code",
   "execution_count": 3,
   "id": "35fecbf2",
   "metadata": {},
   "outputs": [
    {
     "name": "stdout",
     "output_type": "stream",
     "text": [
      "The duplicate value in list is \n",
      "2 8 5 3 6 7 "
     ]
    }
   ],
   "source": [
    "#Write a program to identify duplicate values from list.\n",
    "lst= [1,2,3,2,4,5,6,8,9,7,8,5,3,6,7]\n",
    "lst1 =[]\n",
    "print('The duplicate value in list is ')\n",
    "for i in lst:\n",
    "    if i not in lst1:\n",
    "        lst1.append(i)\n",
    "    else:\n",
    "        print(i,end=' ')\n"
   ]
  },
  {
   "cell_type": "code",
   "execution_count": 9,
   "id": "b219ca86",
   "metadata": {},
   "outputs": [
    {
     "name": "stdout",
     "output_type": "stream",
     "text": [
      "Enter Key to  check whether it is available or not5\n",
      "f\n"
     ]
    }
   ],
   "source": [
    "#Write a Python script to check if a given key already exists in a dictionary\n",
    "a = { 1: 'a', 2 : 'b', 3: 'c', 4:'d',5:'f'}\n",
    "x =int(input('Enter Key to  check whether it is available or not'))\n",
    "print(a.get(x,'Not in Dictionary'))"
   ]
  },
  {
   "cell_type": "code",
   "execution_count": null,
   "id": "c9826bc9",
   "metadata": {},
   "outputs": [],
   "source": []
  }
 ],
 "metadata": {
  "kernelspec": {
   "display_name": "Python 3",
   "language": "python",
   "name": "python3"
  },
  "language_info": {
   "codemirror_mode": {
    "name": "ipython",
    "version": 3
   },
   "file_extension": ".py",
   "mimetype": "text/x-python",
   "name": "python",
   "nbconvert_exporter": "python",
   "pygments_lexer": "ipython3",
   "version": "3.8.8"
  }
 },
 "nbformat": 4,
 "nbformat_minor": 5
}
